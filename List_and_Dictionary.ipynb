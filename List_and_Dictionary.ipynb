{
  "nbformat": 4,
  "nbformat_minor": 0,
  "metadata": {
    "colab": {
      "name": "List and Dictionary",
      "provenance": [],
      "authorship_tag": "ABX9TyPJfz857w8xtZpy3yS4FJPK",
      "include_colab_link": true
    },
    "kernelspec": {
      "name": "python3",
      "display_name": "Python 3"
    },
    "language_info": {
      "name": "python"
    }
  },
  "cells": [
    {
      "cell_type": "markdown",
      "metadata": {
        "id": "view-in-github",
        "colab_type": "text"
      },
      "source": [
        "<a href=\"https://colab.research.google.com/github/Ashikur-ai/Learn-Machine-Learning/blob/main/List_and_Dictionary.ipynb\" target=\"_parent\"><img src=\"https://colab.research.google.com/assets/colab-badge.svg\" alt=\"Open In Colab\"/></a>"
      ]
    },
    {
      "cell_type": "code",
      "execution_count": 1,
      "metadata": {
        "id": "NmCcNds_hS8k"
      },
      "outputs": [],
      "source": [
        "num = [1, 2, 3, 4, 5, 6]"
      ]
    },
    {
      "cell_type": "code",
      "source": [
        "string = ['this', 'is', 'a', 'String', 'List']"
      ],
      "metadata": {
        "id": "qcMTvl-9lGpR"
      },
      "execution_count": 2,
      "outputs": []
    },
    {
      "cell_type": "code",
      "source": [
        "print(string)"
      ],
      "metadata": {
        "colab": {
          "base_uri": "https://localhost:8080/"
        },
        "id": "JXlKyvoQlMcw",
        "outputId": "b4f236cd-f624-48dd-ffba-991900c02d43"
      },
      "execution_count": 3,
      "outputs": [
        {
          "output_type": "stream",
          "name": "stdout",
          "text": [
            "['this', 'is', 'a', 'String', 'List']\n"
          ]
        }
      ]
    },
    {
      "cell_type": "code",
      "source": [
        "string.append('.')"
      ],
      "metadata": {
        "id": "5ZyFoq6flNVH"
      },
      "execution_count": 4,
      "outputs": []
    },
    {
      "cell_type": "code",
      "source": [
        "print(string)"
      ],
      "metadata": {
        "colab": {
          "base_uri": "https://localhost:8080/"
        },
        "id": "UTJv3K7dlQVv",
        "outputId": "0cd59b65-80fa-4084-a5a0-0cfbc296e844"
      },
      "execution_count": 5,
      "outputs": [
        {
          "output_type": "stream",
          "name": "stdout",
          "text": [
            "['this', 'is', 'a', 'String', 'List', '.']\n"
          ]
        }
      ]
    },
    {
      "cell_type": "code",
      "source": [
        "string.append('2')"
      ],
      "metadata": {
        "id": "gi23PfyhlRvv"
      },
      "execution_count": 6,
      "outputs": []
    },
    {
      "cell_type": "code",
      "source": [
        "print(string[0])"
      ],
      "metadata": {
        "colab": {
          "base_uri": "https://localhost:8080/"
        },
        "id": "n7sPCjM4lVl4",
        "outputId": "7bcf3718-9c82-445d-ffdd-331a39be3379"
      },
      "execution_count": 7,
      "outputs": [
        {
          "output_type": "stream",
          "name": "stdout",
          "text": [
            "this\n"
          ]
        }
      ]
    },
    {
      "cell_type": "code",
      "source": [
        "string[-1] = 3"
      ],
      "metadata": {
        "id": "stlUxZiclYIn"
      },
      "execution_count": 8,
      "outputs": []
    },
    {
      "cell_type": "code",
      "source": [
        "string[-1]"
      ],
      "metadata": {
        "colab": {
          "base_uri": "https://localhost:8080/"
        },
        "id": "QH8ebfGelfeN",
        "outputId": "4aa49d78-9ff2-4ea0-8eb0-0035d01740d6"
      },
      "execution_count": 9,
      "outputs": [
        {
          "output_type": "execute_result",
          "data": {
            "text/plain": [
              "3"
            ]
          },
          "metadata": {},
          "execution_count": 9
        }
      ]
    },
    {
      "cell_type": "code",
      "source": [
        "print(string[5:])"
      ],
      "metadata": {
        "colab": {
          "base_uri": "https://localhost:8080/"
        },
        "id": "5JAZ7Zeslg6m",
        "outputId": "250a181f-3d8c-40fc-ede3-b1fe471befad"
      },
      "execution_count": 10,
      "outputs": [
        {
          "output_type": "stream",
          "name": "stdout",
          "text": [
            "['.', 3]\n"
          ]
        }
      ]
    },
    {
      "cell_type": "code",
      "source": [
        "nest = [1,2,4,['a', 'b', 'c', ['hello']]]"
      ],
      "metadata": {
        "id": "fcvlXx7nljmF"
      },
      "execution_count": 11,
      "outputs": []
    },
    {
      "cell_type": "code",
      "source": [
        "print(nest)"
      ],
      "metadata": {
        "colab": {
          "base_uri": "https://localhost:8080/"
        },
        "id": "jD5B1ZBglqeF",
        "outputId": "611da658-cd0b-4708-d0a6-3136f8bf7334"
      },
      "execution_count": 12,
      "outputs": [
        {
          "output_type": "stream",
          "name": "stdout",
          "text": [
            "[1, 2, 4, ['a', 'b', 'c', ['hello']]]\n"
          ]
        }
      ]
    },
    {
      "cell_type": "code",
      "source": [
        "print(nest[3][3][0])"
      ],
      "metadata": {
        "colab": {
          "base_uri": "https://localhost:8080/"
        },
        "id": "22fqGIpplsS1",
        "outputId": "d45b3a4d-647b-4267-9e2e-273b6fd705c0"
      },
      "execution_count": 13,
      "outputs": [
        {
          "output_type": "stream",
          "name": "stdout",
          "text": [
            "hello\n"
          ]
        }
      ]
    },
    {
      "cell_type": "markdown",
      "source": [
        "#Dictionary"
      ],
      "metadata": {
        "id": "wlC_X4MEl5SE"
      }
    },
    {
      "cell_type": "code",
      "source": [
        "d = {'key1': 'value1', 'key2': 'value2'}"
      ],
      "metadata": {
        "id": "l3SyMitdl2LM"
      },
      "execution_count": 14,
      "outputs": []
    },
    {
      "cell_type": "code",
      "source": [
        "type(d)"
      ],
      "metadata": {
        "colab": {
          "base_uri": "https://localhost:8080/"
        },
        "id": "mJnhIz2nl_LD",
        "outputId": "2fe96929-8d31-4411-94fa-d453b233d04a"
      },
      "execution_count": 15,
      "outputs": [
        {
          "output_type": "execute_result",
          "data": {
            "text/plain": [
              "dict"
            ]
          },
          "metadata": {},
          "execution_count": 15
        }
      ]
    },
    {
      "cell_type": "code",
      "source": [
        "print(d['key2'])"
      ],
      "metadata": {
        "colab": {
          "base_uri": "https://localhost:8080/"
        },
        "id": "uwk2QYlymABC",
        "outputId": "acdf4eea-de3a-4dd4-8859-de1552c71d59"
      },
      "execution_count": 16,
      "outputs": [
        {
          "output_type": "stream",
          "name": "stdout",
          "text": [
            "value2\n"
          ]
        }
      ]
    },
    {
      "cell_type": "code",
      "source": [
        "print(d.keys())"
      ],
      "metadata": {
        "colab": {
          "base_uri": "https://localhost:8080/"
        },
        "id": "x_D_P8KwmDrK",
        "outputId": "9c67677b-8feb-4eec-fe87-101d93654a72"
      },
      "execution_count": 17,
      "outputs": [
        {
          "output_type": "stream",
          "name": "stdout",
          "text": [
            "dict_keys(['key1', 'key2'])\n"
          ]
        }
      ]
    },
    {
      "cell_type": "code",
      "source": [
        ""
      ],
      "metadata": {
        "id": "FLVtLB2UmF8b"
      },
      "execution_count": null,
      "outputs": []
    }
  ]
}