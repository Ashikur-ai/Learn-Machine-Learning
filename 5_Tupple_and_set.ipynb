{
  "nbformat": 4,
  "nbformat_minor": 0,
  "metadata": {
    "colab": {
      "name": "5.Tupple and set",
      "provenance": [],
      "authorship_tag": "ABX9TyMQ4eSJlBFiN3PMtABzBbUM",
      "include_colab_link": true
    },
    "kernelspec": {
      "name": "python3",
      "display_name": "Python 3"
    },
    "language_info": {
      "name": "python"
    }
  },
  "cells": [
    {
      "cell_type": "markdown",
      "metadata": {
        "id": "view-in-github",
        "colab_type": "text"
      },
      "source": [
        "<a href=\"https://colab.research.google.com/github/Ashikur-ai/Learn-Machine-Learning/blob/main/5_Tupple_and_set.ipynb\" target=\"_parent\"><img src=\"https://colab.research.google.com/assets/colab-badge.svg\" alt=\"Open In Colab\"/></a>"
      ]
    },
    {
      "cell_type": "markdown",
      "source": [
        "#Boolean"
      ],
      "metadata": {
        "id": "Az5NXP8Ep7g1"
      }
    },
    {
      "cell_type": "code",
      "execution_count": 1,
      "metadata": {
        "id": "9L1VcX_7pzbS"
      },
      "outputs": [],
      "source": [
        "a = True"
      ]
    },
    {
      "cell_type": "code",
      "source": [
        "b = False"
      ],
      "metadata": {
        "id": "_dyrmDLWp_eU"
      },
      "execution_count": 2,
      "outputs": []
    },
    {
      "cell_type": "code",
      "source": [
        "print(b)"
      ],
      "metadata": {
        "colab": {
          "base_uri": "https://localhost:8080/"
        },
        "id": "oSoziltwqANL",
        "outputId": "70c7d9a2-8bd6-4c24-cc91-7d7fcb043603"
      },
      "execution_count": 3,
      "outputs": [
        {
          "output_type": "stream",
          "name": "stdout",
          "text": [
            "False\n"
          ]
        }
      ]
    },
    {
      "cell_type": "markdown",
      "source": [
        "#Tupple"
      ],
      "metadata": {
        "id": "D_WpKwPXqCo7"
      }
    },
    {
      "cell_type": "code",
      "source": [
        "t = (1, 2, 3, 4)"
      ],
      "metadata": {
        "id": "EqjC7b6nqBET"
      },
      "execution_count": 4,
      "outputs": []
    },
    {
      "cell_type": "markdown",
      "source": [
        "#Sets"
      ],
      "metadata": {
        "id": "GoeCYGfGqZ65"
      }
    },
    {
      "cell_type": "code",
      "source": [
        "sets = {1, 2, 3, 1, 2, 3, 4, 5, 6}"
      ],
      "metadata": {
        "id": "yWVroQlFqWCB"
      },
      "execution_count": 5,
      "outputs": []
    },
    {
      "cell_type": "code",
      "source": [
        "print(sets)"
      ],
      "metadata": {
        "colab": {
          "base_uri": "https://localhost:8080/"
        },
        "id": "rSswQoKHqfQp",
        "outputId": "5711edb8-ccf8-4ab8-9ea9-8b0f639713ec"
      },
      "execution_count": 6,
      "outputs": [
        {
          "output_type": "stream",
          "name": "stdout",
          "text": [
            "{1, 2, 3, 4, 5, 6}\n"
          ]
        }
      ]
    },
    {
      "cell_type": "code",
      "source": [
        ""
      ],
      "metadata": {
        "id": "QzkhHbg6qgFI"
      },
      "execution_count": null,
      "outputs": []
    }
  ]
}