{
  "nbformat": 4,
  "nbformat_minor": 0,
  "metadata": {
    "colab": {
      "name": "6. coditional statement",
      "provenance": [],
      "authorship_tag": "ABX9TyN0COToU5AH1OqVrGs8z6x7",
      "include_colab_link": true
    },
    "kernelspec": {
      "name": "python3",
      "display_name": "Python 3"
    },
    "language_info": {
      "name": "python"
    }
  },
  "cells": [
    {
      "cell_type": "markdown",
      "metadata": {
        "id": "view-in-github",
        "colab_type": "text"
      },
      "source": [
        "<a href=\"https://colab.research.google.com/github/Ashikur-ai/Learn-Machine-Learning/blob/main/6_coditional_statement.ipynb\" target=\"_parent\"><img src=\"https://colab.research.google.com/assets/colab-badge.svg\" alt=\"Open In Colab\"/></a>"
      ]
    },
    {
      "cell_type": "markdown",
      "source": [
        "# Comparision"
      ],
      "metadata": {
        "id": "Qns_g85lv_J1"
      }
    },
    {
      "cell_type": "code",
      "execution_count": 1,
      "metadata": {
        "id": "35ikDN-Iq_8W"
      },
      "outputs": [],
      "source": [
        "a = 10\n",
        "b = 2"
      ]
    },
    {
      "cell_type": "code",
      "source": [
        "if (a>b):\n",
        "  print('a is larger')\n",
        "else:\n",
        "  print('otherwise b is')"
      ],
      "metadata": {
        "colab": {
          "base_uri": "https://localhost:8080/"
        },
        "id": "rITScgn4wEyX",
        "outputId": "b9bf09b8-3c35-4f13-d45a-13579cc4a590"
      },
      "execution_count": 3,
      "outputs": [
        {
          "output_type": "stream",
          "name": "stdout",
          "text": [
            "a is larger\n"
          ]
        }
      ]
    },
    {
      "cell_type": "code",
      "source": [
        "a = 0\n",
        "b = 3\n",
        "if a == b:\n",
        "  print('a and b are equal')\n",
        "else:\n",
        "  print('a and b are not equal')"
      ],
      "metadata": {
        "colab": {
          "base_uri": "https://localhost:8080/"
        },
        "id": "ot-nPUAFwM3G",
        "outputId": "6a693671-73a4-4b44-cbcc-23fd8cae36a9"
      },
      "execution_count": 4,
      "outputs": [
        {
          "output_type": "stream",
          "name": "stdout",
          "text": [
            "a and b are not equal\n"
          ]
        }
      ]
    },
    {
      "cell_type": "markdown",
      "source": [
        "#For loop"
      ],
      "metadata": {
        "id": "YkUoKku1wtrb"
      }
    },
    {
      "cell_type": "code",
      "source": [
        "seq = [1, 2, 4]"
      ],
      "metadata": {
        "id": "I_yMFMCnwmy7"
      },
      "execution_count": 5,
      "outputs": []
    },
    {
      "cell_type": "code",
      "source": [
        "print(seq)"
      ],
      "metadata": {
        "colab": {
          "base_uri": "https://localhost:8080/"
        },
        "id": "thNwyRw7wyYy",
        "outputId": "58eb1a8b-5ce5-4e7d-c66c-a34a56d6354a"
      },
      "execution_count": 6,
      "outputs": [
        {
          "output_type": "stream",
          "name": "stdout",
          "text": [
            "[1, 2, 4]\n"
          ]
        }
      ]
    },
    {
      "cell_type": "code",
      "source": [
        "for item in seq:\n",
        "  print(item)"
      ],
      "metadata": {
        "colab": {
          "base_uri": "https://localhost:8080/"
        },
        "id": "bZDZouSTw0Ky",
        "outputId": "89f9aac9-2bc7-4d04-e4e3-e6f35bf6ebc9"
      },
      "execution_count": 7,
      "outputs": [
        {
          "output_type": "stream",
          "name": "stdout",
          "text": [
            "1\n",
            "2\n",
            "4\n"
          ]
        }
      ]
    },
    {
      "cell_type": "code",
      "source": [
        "j = 1\n",
        "while j<52:\n",
        "  print('value of j: ',j)\n",
        "  j = j + 1\n",
        "  "
      ],
      "metadata": {
        "colab": {
          "base_uri": "https://localhost:8080/"
        },
        "id": "LPJO0PqGw8eZ",
        "outputId": "9478290a-4314-4752-81b1-4896705a6df9"
      },
      "execution_count": 8,
      "outputs": [
        {
          "output_type": "stream",
          "name": "stdout",
          "text": [
            "value of j:  1\n",
            "value of j:  2\n",
            "value of j:  3\n",
            "value of j:  4\n",
            "value of j:  5\n",
            "value of j:  6\n",
            "value of j:  7\n",
            "value of j:  8\n",
            "value of j:  9\n",
            "value of j:  10\n",
            "value of j:  11\n",
            "value of j:  12\n",
            "value of j:  13\n",
            "value of j:  14\n",
            "value of j:  15\n",
            "value of j:  16\n",
            "value of j:  17\n",
            "value of j:  18\n",
            "value of j:  19\n",
            "value of j:  20\n",
            "value of j:  21\n",
            "value of j:  22\n",
            "value of j:  23\n",
            "value of j:  24\n",
            "value of j:  25\n",
            "value of j:  26\n",
            "value of j:  27\n",
            "value of j:  28\n",
            "value of j:  29\n",
            "value of j:  30\n",
            "value of j:  31\n",
            "value of j:  32\n",
            "value of j:  33\n",
            "value of j:  34\n",
            "value of j:  35\n",
            "value of j:  36\n",
            "value of j:  37\n",
            "value of j:  38\n",
            "value of j:  39\n",
            "value of j:  40\n",
            "value of j:  41\n",
            "value of j:  42\n",
            "value of j:  43\n",
            "value of j:  44\n",
            "value of j:  45\n",
            "value of j:  46\n",
            "value of j:  47\n",
            "value of j:  48\n",
            "value of j:  49\n",
            "value of j:  50\n",
            "value of j:  51\n"
          ]
        }
      ]
    },
    {
      "cell_type": "code",
      "source": [
        ""
      ],
      "metadata": {
        "id": "HDx8cMPHxF3g"
      },
      "execution_count": null,
      "outputs": []
    }
  ]
}