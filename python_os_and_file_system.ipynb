{
  "nbformat": 4,
  "nbformat_minor": 0,
  "metadata": {
    "colab": {
      "name": "python os and file system.ipynb",
      "provenance": [],
      "collapsed_sections": [],
      "authorship_tag": "ABX9TyP2466s4YsumAFmOPbQDVtJ",
      "include_colab_link": true
    },
    "kernelspec": {
      "name": "python3",
      "display_name": "Python 3"
    },
    "language_info": {
      "name": "python"
    }
  },
  "cells": [
    {
      "cell_type": "markdown",
      "metadata": {
        "id": "view-in-github",
        "colab_type": "text"
      },
      "source": [
        "<a href=\"https://colab.research.google.com/github/Ashikur-ai/Learn-Machine-Learning/blob/main/python_os_and_file_system.ipynb\" target=\"_parent\"><img src=\"https://colab.research.google.com/assets/colab-badge.svg\" alt=\"Open In Colab\"/></a>"
      ]
    },
    {
      "cell_type": "markdown",
      "source": [
        "We will learn:\n",
        "* Interacting with the filesystem using the `os` module\n",
        "* Downloading files from the internet using `urllib` module\n",
        "* Reading and processing data from text files\n",
        "* Parsing data from CSV files into dictionaries & lists\n",
        "* Writing formatted data back to text files\n",
        "\n",
        "# Interacting with the OS and filesystem\n",
        "The `os` module in Python provides many functions for interacting with the OS and the filesystem. Let's import it and try out some examples."
      ],
      "metadata": {
        "id": "KKnqttbkQbqN"
      }
    },
    {
      "cell_type": "code",
      "execution_count": 1,
      "metadata": {
        "id": "jRpI0kLjQXl9"
      },
      "outputs": [],
      "source": [
        "import os"
      ]
    },
    {
      "cell_type": "markdown",
      "source": [
        "We can check the present working directory using the `os.getcwd`function"
      ],
      "metadata": {
        "id": "U0up7ZllRB5B"
      }
    },
    {
      "cell_type": "code",
      "source": [
        "os.getcwd()"
      ],
      "metadata": {
        "colab": {
          "base_uri": "https://localhost:8080/",
          "height": 36
        },
        "id": "kcyMgP98RA9p",
        "outputId": "c7f38915-a98b-4724-94e0-2b40f5b82f12"
      },
      "execution_count": 2,
      "outputs": [
        {
          "output_type": "execute_result",
          "data": {
            "text/plain": [
              "'/content'"
            ],
            "application/vnd.google.colaboratory.intrinsic+json": {
              "type": "string"
            }
          },
          "metadata": {},
          "execution_count": 2
        }
      ]
    },
    {
      "cell_type": "markdown",
      "source": [
        "To get the list of files in a directory, use `os.listdir`. You pass an absolute or relative path of a directory as the argument to the function."
      ],
      "metadata": {
        "id": "6RMlMrrgRKdH"
      }
    },
    {
      "cell_type": "code",
      "source": [
        "os.listdir('/content')"
      ],
      "metadata": {
        "colab": {
          "base_uri": "https://localhost:8080/"
        },
        "id": "BpfPS59bRI43",
        "outputId": "7fe4d9c6-d54d-4e57-e563-5ac74a09503b"
      },
      "execution_count": 3,
      "outputs": [
        {
          "output_type": "execute_result",
          "data": {
            "text/plain": [
              "['.config', 'sample_data']"
            ]
          },
          "metadata": {},
          "execution_count": 3
        }
      ]
    },
    {
      "cell_type": "code",
      "source": [
        "help(os.listdir)"
      ],
      "metadata": {
        "colab": {
          "base_uri": "https://localhost:8080/"
        },
        "id": "9raHwiHXRVp2",
        "outputId": "7586613b-d424-4961-a9a0-089e913723dc"
      },
      "execution_count": 4,
      "outputs": [
        {
          "output_type": "stream",
          "name": "stdout",
          "text": [
            "Help on built-in function listdir in module posix:\n",
            "\n",
            "listdir(path=None)\n",
            "    Return a list containing the names of the files in the directory.\n",
            "    \n",
            "    path can be specified as either str, bytes, or a path-like object.  If path is bytes,\n",
            "      the filenames returned will also be bytes; in all other circumstances\n",
            "      the filenames returned will be str.\n",
            "    If path is None, uses the path='.'.\n",
            "    On some platforms, path may also be specified as an open file descriptor;\\\n",
            "      the file descriptor must refer to a directory.\n",
            "      If this functionality is unavailable, using it raises NotImplementedError.\n",
            "    \n",
            "    The list is in arbitrary order.  It does not include the special\n",
            "    entries '.' and '..' even if they are present in the directory.\n",
            "\n"
          ]
        }
      ]
    },
    {
      "cell_type": "code",
      "source": [
        "os.listdir('.') # relative path"
      ],
      "metadata": {
        "colab": {
          "base_uri": "https://localhost:8080/"
        },
        "id": "mvD4PDUcRZLl",
        "outputId": "a771f777-52ed-4e7b-c1cd-69346ba7298c"
      },
      "execution_count": 5,
      "outputs": [
        {
          "output_type": "execute_result",
          "data": {
            "text/plain": [
              "['.config', 'sample_data']"
            ]
          },
          "metadata": {},
          "execution_count": 5
        }
      ]
    },
    {
      "cell_type": "code",
      "source": [
        "os.listdir('/usr') #absolute path"
      ],
      "metadata": {
        "colab": {
          "base_uri": "https://localhost:8080/"
        },
        "id": "7hB4m4X4RgR1",
        "outputId": "2280ac58-17f3-44c8-b034-f74a2276af98"
      },
      "execution_count": 6,
      "outputs": [
        {
          "output_type": "execute_result",
          "data": {
            "text/plain": [
              "['include',\n",
              " 'bin',\n",
              " 'src',\n",
              " 'share',\n",
              " 'sbin',\n",
              " 'lib',\n",
              " 'local',\n",
              " 'games',\n",
              " 'grte',\n",
              " 'lib32']"
            ]
          },
          "metadata": {},
          "execution_count": 6
        }
      ]
    },
    {
      "cell_type": "markdown",
      "source": [
        "You can create a new directory using `os.makedirs`. Let's create a new directory called `data`, where we'll later download some files."
      ],
      "metadata": {
        "id": "xSv1RDT0Rngd"
      }
    },
    {
      "cell_type": "code",
      "source": [
        "os.makedirs('./data', exist_ok=True)"
      ],
      "metadata": {
        "id": "-s0jALzSRj8s"
      },
      "execution_count": 7,
      "outputs": []
    },
    {
      "cell_type": "code",
      "source": [
        "'data' in os.listdir('.')"
      ],
      "metadata": {
        "colab": {
          "base_uri": "https://localhost:8080/"
        },
        "id": "vk8y0CHyRz48",
        "outputId": "8257c0b2-3814-476c-b17c-ea8a4fcd4059"
      },
      "execution_count": 8,
      "outputs": [
        {
          "output_type": "execute_result",
          "data": {
            "text/plain": [
              "True"
            ]
          },
          "metadata": {},
          "execution_count": 8
        }
      ]
    },
    {
      "cell_type": "code",
      "source": [
        "os.listdir('./data')"
      ],
      "metadata": {
        "colab": {
          "base_uri": "https://localhost:8080/"
        },
        "id": "kV29qSEzR6YT",
        "outputId": "2c807f4b-6e6d-4f6e-8343-17085e7004fc"
      },
      "execution_count": 9,
      "outputs": [
        {
          "output_type": "execute_result",
          "data": {
            "text/plain": [
              "[]"
            ]
          },
          "metadata": {},
          "execution_count": 9
        }
      ]
    },
    {
      "cell_type": "markdown",
      "source": [
        "Let us download some files into the `data` directory  using the `urllib` module."
      ],
      "metadata": {
        "id": "5Mu6y948SAGj"
      }
    },
    {
      "cell_type": "code",
      "source": [
        "url1 = 'https://gist.githubusercontent.com/aakashns/257f6e6c8719c17d0e498ea287d1a386/raw/7def9ef4234ddf0bc82f855ad67dac8b971852ef/loans1.txt'\n",
        "url2 = 'https://gist.githubusercontent.com/aakashns/257f6e6c8719c17d0e498ea287d1a386/raw/7def9ef4234ddf0bc82f855ad67dac8b971852ef/loans2.txt'\n",
        "url3 = 'https://gist.githubusercontent.com/aakashns/257f6e6c8719c17d0e498ea287d1a386/raw/7def9ef4234ddf0bc82f855ad67dac8b971852ef/loans3.txt'"
      ],
      "metadata": {
        "id": "IKdOKXcPR8jr"
      },
      "execution_count": 10,
      "outputs": []
    },
    {
      "cell_type": "code",
      "source": [
        "from urllib.request import urlretrieve"
      ],
      "metadata": {
        "id": "oIDHyMqnSIUB"
      },
      "execution_count": 11,
      "outputs": []
    },
    {
      "cell_type": "code",
      "source": [
        "urlretrieve(url1, './data/loans1.txt')"
      ],
      "metadata": {
        "colab": {
          "base_uri": "https://localhost:8080/"
        },
        "id": "axJ1vjOfSMyo",
        "outputId": "94f164a4-f6c8-4306-eeba-aa8a4d922e61"
      },
      "execution_count": 12,
      "outputs": [
        {
          "output_type": "execute_result",
          "data": {
            "text/plain": [
              "('./data/loans1.txt', <http.client.HTTPMessage at 0x7f4046b12190>)"
            ]
          },
          "metadata": {},
          "execution_count": 12
        }
      ]
    },
    {
      "cell_type": "code",
      "source": [
        "urlretrieve(url1, './data/loans2.txt')"
      ],
      "metadata": {
        "colab": {
          "base_uri": "https://localhost:8080/"
        },
        "id": "QuYe-NlASQCp",
        "outputId": "419a3c5e-ba22-45df-c28c-0a2fb64b96b3"
      },
      "execution_count": 13,
      "outputs": [
        {
          "output_type": "execute_result",
          "data": {
            "text/plain": [
              "('./data/loans2.txt', <http.client.HTTPMessage at 0x7f4046b12f50>)"
            ]
          },
          "metadata": {},
          "execution_count": 13
        }
      ]
    },
    {
      "cell_type": "code",
      "source": [
        "urlretrieve(url1, './data/loans3.txt')"
      ],
      "metadata": {
        "colab": {
          "base_uri": "https://localhost:8080/"
        },
        "id": "5yTmsRTDSaV4",
        "outputId": "8aeefcf8-2baf-46b4-c8e6-61f99d86599a"
      },
      "execution_count": 14,
      "outputs": [
        {
          "output_type": "execute_result",
          "data": {
            "text/plain": [
              "('./data/loans3.txt', <http.client.HTTPMessage at 0x7f4046b1df90>)"
            ]
          },
          "metadata": {},
          "execution_count": 14
        }
      ]
    },
    {
      "cell_type": "markdown",
      "source": [
        "Let's verify that the files were downloaded."
      ],
      "metadata": {
        "id": "ZL-JLPNfSdEf"
      }
    },
    {
      "cell_type": "code",
      "source": [
        "os.listdir('./data')"
      ],
      "metadata": {
        "colab": {
          "base_uri": "https://localhost:8080/"
        },
        "id": "_yiLolIWScBf",
        "outputId": "419e6704-8914-4088-d219-daf8cfb51f58"
      },
      "execution_count": 15,
      "outputs": [
        {
          "output_type": "execute_result",
          "data": {
            "text/plain": [
              "['loans1.txt', 'loans3.txt', 'loans2.txt']"
            ]
          },
          "metadata": {},
          "execution_count": 15
        }
      ]
    },
    {
      "cell_type": "markdown",
      "source": [
        "#Reading from a file\n",
        "To read the contents of a file, we first need to open the file using the built-in `open`function. The `open` function returns a file object and provides several methods for interacting with the file's contents."
      ],
      "metadata": {
        "id": "6FjS378-SkP-"
      }
    },
    {
      "cell_type": "code",
      "source": [
        "file1 = open('./data/loans1.txt', mode='r')"
      ],
      "metadata": {
        "id": "Su38jyZ_ShjW"
      },
      "execution_count": 16,
      "outputs": []
    },
    {
      "cell_type": "markdown",
      "source": [
        "The `open` function also accepts a `mode` argument to specifies how we can interact with the file."
      ],
      "metadata": {
        "id": "Mp6uAYpnS2A2"
      }
    },
    {
      "cell_type": "markdown",
      "source": [
        "To view the contents of the file, we can use the `read` method of the file object."
      ],
      "metadata": {
        "id": "ZDHQWHMBTNAa"
      }
    },
    {
      "cell_type": "code",
      "source": [
        "file1_contents = file1.read()"
      ],
      "metadata": {
        "id": "MmLD6foVS1H2"
      },
      "execution_count": 17,
      "outputs": []
    },
    {
      "cell_type": "code",
      "source": [
        "print(file1_contents)"
      ],
      "metadata": {
        "colab": {
          "base_uri": "https://localhost:8080/"
        },
        "id": "ghBCiflETUhR",
        "outputId": "f6d1d277-72d9-4b13-e454-b8696dfeb79b"
      },
      "execution_count": 18,
      "outputs": [
        {
          "output_type": "stream",
          "name": "stdout",
          "text": [
            "amount,duration,rate,down_payment\n",
            "100000,36,0.08,20000\n",
            "200000,12,0.1,\n",
            "628400,120,0.12,100000\n",
            "4637400,240,0.06,\n",
            "42900,90,0.07,8900\n",
            "916000,16,0.13,\n",
            "45230,48,0.08,4300\n",
            "991360,99,0.08,\n",
            "423000,27,0.09,47200\n"
          ]
        }
      ]
    },
    {
      "cell_type": "markdown",
      "source": [
        "The file contains information about loans. It is a set of comma-separated values(CSV).\n",
        "\n",
        ">**CSVs:** A comma-separated values (CSV) file is a delimited text file that uses a comma to separate values. Each line of the file is a data record. Each record consists of one or more fields, separated by commas. A CSV file typically stores tabular data (numbers and text) in plain text, in which case each line will have the same number of fields.\n",
        "\n",
        "The first line of the file is the header, indicating what each of the numbers on the remaining lines represents. Each of the remaining lines provides information about a loan. Thus, the second line `100000, 36, 0.08, 20000` represents a loan with:\n",
        "* an amount of `$100000`\n",
        "* duration of `36` months, \n",
        "* rate of interest of `8%` per annum, and\n",
        "* a down payment of `$20000`\n",
        "\n",
        "The CSV is a standard file format used for sharing data for analysis and visualization. Over the course of this tutorial, we will read the data from these CSV files, process it, and write the results back to files. Before we continue, let's close the file using the `close` method(otherwise, Python will continue to hold the entire file in the RAM)"
      ],
      "metadata": {
        "id": "-UcRHDd6TukH"
      }
    },
    {
      "cell_type": "code",
      "source": [
        "file1.close()"
      ],
      "metadata": {
        "id": "kM_wgWo_TWNi"
      },
      "execution_count": 19,
      "outputs": []
    },
    {
      "cell_type": "markdown",
      "source": [
        "Once a file is closed, you can no longer read from it."
      ],
      "metadata": {
        "id": "RYhmfkYlVRq3"
      }
    },
    {
      "cell_type": "code",
      "source": [
        "file1.read()"
      ],
      "metadata": {
        "colab": {
          "base_uri": "https://localhost:8080/",
          "height": 171
        },
        "id": "QaX0vSsuVQde",
        "outputId": "86dd50a8-8a43-4337-82c7-718ae95f94d1"
      },
      "execution_count": 47,
      "outputs": [
        {
          "output_type": "error",
          "ename": "ValueError",
          "evalue": "ignored",
          "traceback": [
            "\u001b[0;31m---------------------------------------------------------------------------\u001b[0m",
            "\u001b[0;31mValueError\u001b[0m                                Traceback (most recent call last)",
            "\u001b[0;32m<ipython-input-47-2fcf3b5e742f>\u001b[0m in \u001b[0;36m<module>\u001b[0;34m\u001b[0m\n\u001b[0;32m----> 1\u001b[0;31m \u001b[0mfile1\u001b[0m\u001b[0;34m.\u001b[0m\u001b[0mread\u001b[0m\u001b[0;34m(\u001b[0m\u001b[0;34m)\u001b[0m\u001b[0;34m\u001b[0m\u001b[0;34m\u001b[0m\u001b[0m\n\u001b[0m",
            "\u001b[0;31mValueError\u001b[0m: I/O operation on closed file."
          ]
        }
      ]
    },
    {
      "cell_type": "markdown",
      "source": [
        "#Closing file automatically using `with`\n",
        "To close a file automatically after you've processed it, you can open it using the `with` statement."
      ],
      "metadata": {
        "id": "16gi8EO5VX2e"
      }
    },
    {
      "cell_type": "code",
      "source": [
        "with open('./data/loans2.txt') as file2:\n",
        "  file2_contents = file2.read()\n",
        "  print(file2_contents)"
      ],
      "metadata": {
        "colab": {
          "base_uri": "https://localhost:8080/"
        },
        "id": "OkDVCpGBVVgV",
        "outputId": "0d1b000d-f9a3-405d-a935-a90e12c3c02c"
      },
      "execution_count": 48,
      "outputs": [
        {
          "output_type": "stream",
          "name": "stdout",
          "text": [
            "amount,duration,rate,down_payment\n",
            "100000,36,0.08,20000\n",
            "200000,12,0.1,\n",
            "628400,120,0.12,100000\n",
            "4637400,240,0.06,\n",
            "42900,90,0.07,8900\n",
            "916000,16,0.13,\n",
            "45230,48,0.08,4300\n",
            "991360,99,0.08,\n",
            "423000,27,0.09,47200\n"
          ]
        }
      ]
    },
    {
      "cell_type": "markdown",
      "source": [
        "Once the statements within the `with` block are executed, the `.close` method on `file2` is automatically invoked. Let's verify this by trying to read from the file object again."
      ],
      "metadata": {
        "id": "I04PyUDEVtT0"
      }
    },
    {
      "cell_type": "code",
      "source": [
        "file2.read()"
      ],
      "metadata": {
        "colab": {
          "base_uri": "https://localhost:8080/",
          "height": 171
        },
        "id": "2d2_dgIuVrOz",
        "outputId": "56c0d57b-07be-4c0b-c3b1-9fab40459b2b"
      },
      "execution_count": 49,
      "outputs": [
        {
          "output_type": "error",
          "ename": "ValueError",
          "evalue": "ignored",
          "traceback": [
            "\u001b[0;31m---------------------------------------------------------------------------\u001b[0m",
            "\u001b[0;31mValueError\u001b[0m                                Traceback (most recent call last)",
            "\u001b[0;32m<ipython-input-49-4a9205324152>\u001b[0m in \u001b[0;36m<module>\u001b[0;34m\u001b[0m\n\u001b[0;32m----> 1\u001b[0;31m \u001b[0mfile2\u001b[0m\u001b[0;34m.\u001b[0m\u001b[0mread\u001b[0m\u001b[0;34m(\u001b[0m\u001b[0;34m)\u001b[0m\u001b[0;34m\u001b[0m\u001b[0;34m\u001b[0m\u001b[0m\n\u001b[0m",
            "\u001b[0;31mValueError\u001b[0m: I/O operation on closed file."
          ]
        }
      ]
    },
    {
      "cell_type": "markdown",
      "source": [
        "#Reading a file line by line\n",
        "File objects provide a `readlines` method to read a file line-by-line."
      ],
      "metadata": {
        "id": "fQHx-YRAV_K5"
      }
    },
    {
      "cell_type": "code",
      "source": [
        "with open('./data/loans3.txt', 'r') as file3:\n",
        "  file3_lines = file3.readlines()"
      ],
      "metadata": {
        "id": "PGXZeoSxV6lB"
      },
      "execution_count": 23,
      "outputs": []
    },
    {
      "cell_type": "code",
      "source": [
        "file3_lines"
      ],
      "metadata": {
        "colab": {
          "base_uri": "https://localhost:8080/"
        },
        "id": "zLFG9yyoWaom",
        "outputId": "6901f90f-3c7c-4fc6-822a-5e0e079419c0"
      },
      "execution_count": 50,
      "outputs": [
        {
          "output_type": "execute_result",
          "data": {
            "text/plain": [
              "['amount,duration,rate,down_payment\\n',\n",
              " '100000,36,0.08,20000\\n',\n",
              " '200000,12,0.1,\\n',\n",
              " '628400,120,0.12,100000\\n',\n",
              " '4637400,240,0.06,\\n',\n",
              " '42900,90,0.07,8900\\n',\n",
              " '916000,16,0.13,\\n',\n",
              " '45230,48,0.08,4300\\n',\n",
              " '991360,99,0.08,\\n',\n",
              " '423000,27,0.09,47200']"
            ]
          },
          "metadata": {},
          "execution_count": 50
        }
      ]
    },
    {
      "cell_type": "markdown",
      "source": [
        "#Processing data from files\n",
        "Before performing any operations on the data stored in a file, we need to convert the file's contents from one large string into Python data types. For the file `loans1.txt` containing information about loans in a CSV format, we can do the following:\n",
        "* Read the file line by line\n",
        "* Split each remaining line and convert each value into a float\n",
        "* Create a dictionary for each loan using the headers as keys\n",
        "* Create a list of dictionaries to keep track of all the loans\n",
        "\n",
        "Since we will perform the same operations for multiple files, it would be useful to define a function `read_csv`. We'll also defining a function `parse_header` that takes a line as input and returns a list of column headers."
      ],
      "metadata": {
        "id": "ntdL0Q9xWvq-"
      }
    },
    {
      "cell_type": "code",
      "source": [
        "def parse_headers(header_line):\n",
        "  return header_line.strip().split(',')"
      ],
      "metadata": {
        "id": "vX9IW-sLWcBf"
      },
      "execution_count": 24,
      "outputs": []
    },
    {
      "cell_type": "markdown",
      "source": [
        "The `strip` method removes any extra spaces and the newline character `\\n`. The `split` method breaks a string into a list using the given separator (`,` in this case)"
      ],
      "metadata": {
        "id": "VU50WOdaXtSX"
      }
    },
    {
      "cell_type": "code",
      "source": [
        "file3_lines[0]"
      ],
      "metadata": {
        "id": "YG3c4l5UXrkH",
        "colab": {
          "base_uri": "https://localhost:8080/",
          "height": 36
        },
        "outputId": "86ab16fc-80af-4f0d-fb60-0fa8a9a8f781"
      },
      "execution_count": 25,
      "outputs": [
        {
          "output_type": "execute_result",
          "data": {
            "text/plain": [
              "'amount,duration,rate,down_payment\\n'"
            ],
            "application/vnd.google.colaboratory.intrinsic+json": {
              "type": "string"
            }
          },
          "metadata": {},
          "execution_count": 25
        }
      ]
    },
    {
      "cell_type": "code",
      "source": [
        "headers = parse_headers(file3_lines[0])"
      ],
      "metadata": {
        "id": "DnqBjkFiqnak"
      },
      "execution_count": 26,
      "outputs": []
    },
    {
      "cell_type": "code",
      "source": [
        "headers"
      ],
      "metadata": {
        "colab": {
          "base_uri": "https://localhost:8080/"
        },
        "id": "m2lg4IauqsHk",
        "outputId": "ee7d506f-6aa1-469b-99e0-2b52f9d1f3ef"
      },
      "execution_count": 27,
      "outputs": [
        {
          "output_type": "execute_result",
          "data": {
            "text/plain": [
              "['amount', 'duration', 'rate', 'down_payment']"
            ]
          },
          "metadata": {},
          "execution_count": 27
        }
      ]
    },
    {
      "cell_type": "markdown",
      "source": [
        "Next, let's define a function `parse_values` that takes a linne containing some data and returns a list of floating point numbers."
      ],
      "metadata": {
        "id": "CgqAwUajquV0"
      }
    },
    {
      "cell_type": "code",
      "source": [
        "line = file3_lines[0]"
      ],
      "metadata": {
        "id": "6iU1T5sGqtDj"
      },
      "execution_count": 28,
      "outputs": []
    },
    {
      "cell_type": "code",
      "source": [
        "line = line.strip()\n",
        "line.split(',')"
      ],
      "metadata": {
        "colab": {
          "base_uri": "https://localhost:8080/"
        },
        "id": "UPDD9Z7Xq8za",
        "outputId": "7ded935e-0edd-4a24-c9e7-c8fd0151cf32"
      },
      "execution_count": 30,
      "outputs": [
        {
          "output_type": "execute_result",
          "data": {
            "text/plain": [
              "['amount', 'duration', 'rate', 'down_payment']"
            ]
          },
          "metadata": {},
          "execution_count": 30
        }
      ]
    },
    {
      "cell_type": "code",
      "source": [
        "def parse_values(data_line):\n",
        "  values = []\n",
        "  for item in data_line.strip().split(','):\n",
        "    values.append(float(item))\n",
        "  return values"
      ],
      "metadata": {
        "id": "OLIW5dofq-Wq"
      },
      "execution_count": 31,
      "outputs": []
    },
    {
      "cell_type": "code",
      "source": [
        "file3_lines[1]"
      ],
      "metadata": {
        "colab": {
          "base_uri": "https://localhost:8080/",
          "height": 36
        },
        "id": "8IKVApaLrMSJ",
        "outputId": "86c476db-9af8-42e7-8c0a-e6fbf35041e5"
      },
      "execution_count": 32,
      "outputs": [
        {
          "output_type": "execute_result",
          "data": {
            "text/plain": [
              "'100000,36,0.08,20000\\n'"
            ],
            "application/vnd.google.colaboratory.intrinsic+json": {
              "type": "string"
            }
          },
          "metadata": {},
          "execution_count": 32
        }
      ]
    },
    {
      "cell_type": "code",
      "source": [
        "parse_values(file3_lines[1])"
      ],
      "metadata": {
        "colab": {
          "base_uri": "https://localhost:8080/"
        },
        "id": "CxCe57MOrOso",
        "outputId": "742a15d7-728d-422e-a2c7-bc6d1d37f7f3"
      },
      "execution_count": 33,
      "outputs": [
        {
          "output_type": "execute_result",
          "data": {
            "text/plain": [
              "[100000.0, 36.0, 0.08, 20000.0]"
            ]
          },
          "metadata": {},
          "execution_count": 33
        }
      ]
    },
    {
      "cell_type": "markdown",
      "source": [
        "The values were parsed and converted to floating point numbers, as expected. Let's try it for another line from the file, which does not contain a value for the down payment."
      ],
      "metadata": {
        "id": "X5kVvuY7rUQY"
      }
    },
    {
      "cell_type": "code",
      "source": [
        "file3_lines[2]"
      ],
      "metadata": {
        "colab": {
          "base_uri": "https://localhost:8080/",
          "height": 36
        },
        "id": "5TmqA1LHrSk3",
        "outputId": "820e80ab-73c1-4a2c-d544-2f07d126c16b"
      },
      "execution_count": 34,
      "outputs": [
        {
          "output_type": "execute_result",
          "data": {
            "text/plain": [
              "'200000,12,0.1,\\n'"
            ],
            "application/vnd.google.colaboratory.intrinsic+json": {
              "type": "string"
            }
          },
          "metadata": {},
          "execution_count": 34
        }
      ]
    },
    {
      "cell_type": "code",
      "source": [
        "parse_values(file3_lines[2])"
      ],
      "metadata": {
        "colab": {
          "base_uri": "https://localhost:8080/",
          "height": 281
        },
        "id": "jOrVDaqjrfWP",
        "outputId": "e954d526-3f88-4086-f94e-aa8caf8c36d4"
      },
      "execution_count": 35,
      "outputs": [
        {
          "output_type": "error",
          "ename": "ValueError",
          "evalue": "ignored",
          "traceback": [
            "\u001b[0;31m---------------------------------------------------------------------------\u001b[0m",
            "\u001b[0;31mValueError\u001b[0m                                Traceback (most recent call last)",
            "\u001b[0;32m<ipython-input-35-b170e8564609>\u001b[0m in \u001b[0;36m<module>\u001b[0;34m\u001b[0m\n\u001b[0;32m----> 1\u001b[0;31m \u001b[0mparse_values\u001b[0m\u001b[0;34m(\u001b[0m\u001b[0mfile3_lines\u001b[0m\u001b[0;34m[\u001b[0m\u001b[0;36m2\u001b[0m\u001b[0;34m]\u001b[0m\u001b[0;34m)\u001b[0m\u001b[0;34m\u001b[0m\u001b[0;34m\u001b[0m\u001b[0m\n\u001b[0m",
            "\u001b[0;32m<ipython-input-31-362109422f63>\u001b[0m in \u001b[0;36mparse_values\u001b[0;34m(data_line)\u001b[0m\n\u001b[1;32m      2\u001b[0m   \u001b[0mvalues\u001b[0m \u001b[0;34m=\u001b[0m \u001b[0;34m[\u001b[0m\u001b[0;34m]\u001b[0m\u001b[0;34m\u001b[0m\u001b[0;34m\u001b[0m\u001b[0m\n\u001b[1;32m      3\u001b[0m   \u001b[0;32mfor\u001b[0m \u001b[0mitem\u001b[0m \u001b[0;32min\u001b[0m \u001b[0mdata_line\u001b[0m\u001b[0;34m.\u001b[0m\u001b[0mstrip\u001b[0m\u001b[0;34m(\u001b[0m\u001b[0;34m)\u001b[0m\u001b[0;34m.\u001b[0m\u001b[0msplit\u001b[0m\u001b[0;34m(\u001b[0m\u001b[0;34m','\u001b[0m\u001b[0;34m)\u001b[0m\u001b[0;34m:\u001b[0m\u001b[0;34m\u001b[0m\u001b[0;34m\u001b[0m\u001b[0m\n\u001b[0;32m----> 4\u001b[0;31m     \u001b[0mvalues\u001b[0m\u001b[0;34m.\u001b[0m\u001b[0mappend\u001b[0m\u001b[0;34m(\u001b[0m\u001b[0mfloat\u001b[0m\u001b[0;34m(\u001b[0m\u001b[0mitem\u001b[0m\u001b[0;34m)\u001b[0m\u001b[0;34m)\u001b[0m\u001b[0;34m\u001b[0m\u001b[0;34m\u001b[0m\u001b[0m\n\u001b[0m\u001b[1;32m      5\u001b[0m   \u001b[0;32mreturn\u001b[0m \u001b[0mvalues\u001b[0m\u001b[0;34m\u001b[0m\u001b[0;34m\u001b[0m\u001b[0m\n",
            "\u001b[0;31mValueError\u001b[0m: could not convert string to float: "
          ]
        }
      ]
    },
    {
      "cell_type": "markdown",
      "source": [
        "The code above leads to a `ValueError` because the emply string `''` cannot be converted to a float. We can enhance the  `parse_values` function to handle this edge case. We will also handle the case where the value is not a float."
      ],
      "metadata": {
        "id": "JsUxVsLarrsm"
      }
    },
    {
      "cell_type": "code",
      "source": [
        "def parse_values(data_line):\n",
        "  values = []\n",
        "  for item in data_line.strip().split(','):\n",
        "    if item == '':\n",
        "      values.append(0.0)\n",
        "    else:\n",
        "      try: \n",
        "        values.append(float(item))\n",
        "      except ValueError:\n",
        "        values.append(item)\n",
        "    return values"
      ],
      "metadata": {
        "id": "2Bu4dU2NrmVW"
      },
      "execution_count": 36,
      "outputs": []
    },
    {
      "cell_type": "code",
      "source": [
        "file3_lines[2]"
      ],
      "metadata": {
        "colab": {
          "base_uri": "https://localhost:8080/",
          "height": 36
        },
        "id": "8ZJDaC6LsNUL",
        "outputId": "8b21737c-374c-4abe-d4e7-a0a7f86a78b9"
      },
      "execution_count": 37,
      "outputs": [
        {
          "output_type": "execute_result",
          "data": {
            "text/plain": [
              "'200000,12,0.1,\\n'"
            ],
            "application/vnd.google.colaboratory.intrinsic+json": {
              "type": "string"
            }
          },
          "metadata": {},
          "execution_count": 37
        }
      ]
    },
    {
      "cell_type": "code",
      "source": [
        "parse_values(file3_lines[2])"
      ],
      "metadata": {
        "colab": {
          "base_uri": "https://localhost:8080/"
        },
        "id": "QSYTyAxvsPTT",
        "outputId": "f41fe531-3e5d-4c91-ac70-f164604b61a4"
      },
      "execution_count": 38,
      "outputs": [
        {
          "output_type": "execute_result",
          "data": {
            "text/plain": [
              "[200000.0]"
            ]
          },
          "metadata": {},
          "execution_count": 38
        }
      ]
    },
    {
      "cell_type": "markdown",
      "source": [
        "Next, let's define a function `creae_item_dict` that takes a list of values and a list of headers as inputs and returns a dictionary with the values associated with their respective headers as keys."
      ],
      "metadata": {
        "id": "zPKxK3iQuusW"
      }
    },
    {
      "cell_type": "code",
      "source": [
        "def create_item_dict(values, headers):\n",
        "  result = {}\n",
        "  for value, header in zip(values, headers):\n",
        "    result[header] = value\n",
        "  return result"
      ],
      "metadata": {
        "id": "djW5L4busSsT"
      },
      "execution_count": 39,
      "outputs": []
    },
    {
      "cell_type": "code",
      "source": [
        "for item in zip([1, 2, 3], ['a', 'b', 'c']):\n",
        "  print(item)"
      ],
      "metadata": {
        "colab": {
          "base_uri": "https://localhost:8080/"
        },
        "id": "FFMHmgFovJbS",
        "outputId": "d9f3c7d5-c505-47bf-ee99-7b088916a5d6"
      },
      "execution_count": 40,
      "outputs": [
        {
          "output_type": "stream",
          "name": "stdout",
          "text": [
            "(1, 'a')\n",
            "(2, 'b')\n",
            "(3, 'c')\n"
          ]
        }
      ]
    },
    {
      "cell_type": "markdown",
      "source": [
        "Let's try out `create_item_dict` with a couple of examples."
      ],
      "metadata": {
        "id": "4o_DvQ4pvW6Z"
      }
    },
    {
      "cell_type": "code",
      "source": [
        "file3_lines[1]"
      ],
      "metadata": {
        "colab": {
          "base_uri": "https://localhost:8080/",
          "height": 36
        },
        "id": "NJGff9q0vVFg",
        "outputId": "4a4e0e9d-2f57-4b98-cfbb-ff35adcc66bd"
      },
      "execution_count": 41,
      "outputs": [
        {
          "output_type": "execute_result",
          "data": {
            "text/plain": [
              "'100000,36,0.08,20000\\n'"
            ],
            "application/vnd.google.colaboratory.intrinsic+json": {
              "type": "string"
            }
          },
          "metadata": {},
          "execution_count": 41
        }
      ]
    },
    {
      "cell_type": "code",
      "source": [
        "values1 = parse_values(file3_lines[1])\n",
        "create_item_dict(values1, headers)"
      ],
      "metadata": {
        "colab": {
          "base_uri": "https://localhost:8080/"
        },
        "id": "Zmj8oKYXvch4",
        "outputId": "da934d36-9b18-4b39-8b37-cd74a9060490"
      },
      "execution_count": 42,
      "outputs": [
        {
          "output_type": "execute_result",
          "data": {
            "text/plain": [
              "{'amount': 100000.0}"
            ]
          },
          "metadata": {},
          "execution_count": 42
        }
      ]
    },
    {
      "cell_type": "code",
      "source": [
        "file3_lines[2]"
      ],
      "metadata": {
        "colab": {
          "base_uri": "https://localhost:8080/",
          "height": 36
        },
        "id": "nVMU-6rHvlPf",
        "outputId": "74c389a9-31be-4ce3-8c93-d037171a995b"
      },
      "execution_count": 43,
      "outputs": [
        {
          "output_type": "execute_result",
          "data": {
            "text/plain": [
              "'200000,12,0.1,\\n'"
            ],
            "application/vnd.google.colaboratory.intrinsic+json": {
              "type": "string"
            }
          },
          "metadata": {},
          "execution_count": 43
        }
      ]
    },
    {
      "cell_type": "code",
      "source": [
        "values2 = parse_values(file3_lines[2])\n",
        "create_item_dict(values2, headers)"
      ],
      "metadata": {
        "colab": {
          "base_uri": "https://localhost:8080/"
        },
        "id": "DEF5I4ubvnj2",
        "outputId": "b028c950-3cb9-49bc-d0df-3d825eb810b1"
      },
      "execution_count": 44,
      "outputs": [
        {
          "output_type": "execute_result",
          "data": {
            "text/plain": [
              "{'amount': 200000.0}"
            ]
          },
          "metadata": {},
          "execution_count": 44
        }
      ]
    },
    {
      "cell_type": "markdown",
      "source": [
        "As expected, the values & header are combined to create a dictionary with the appropriate key-value pairs. We are now ready to put it all together and define the `read_csv` function."
      ],
      "metadata": {
        "id": "qNh9V_4TvuKG"
      }
    },
    {
      "cell_type": "code",
      "source": [
        "def read_csv(path):\n",
        "  result = []\n",
        "  # Open the file in read mode\n",
        "  with open(path, 'r') as f:\n",
        "    # Get a list of lines\n",
        "    lines = f.readlines()\n",
        "    # Parse the header\n",
        "    headers = parse_headers(lines[0])\n",
        "    # Loop over the remaining lines\n",
        "    for data_line in lines[1:]:\n",
        "      # Parse the values\n",
        "      values = parse_values(data_line)\n",
        "      # Create a dictionary using values & headers\n",
        "      item_dict = create_item_dict(values, headers)\n",
        "      # Add the dictionary to the result\n",
        "      result.append(item_dict)\n",
        "    return result"
      ],
      "metadata": {
        "id": "epBSscCLvtCe"
      },
      "execution_count": 45,
      "outputs": []
    },
    {
      "cell_type": "markdown",
      "source": [
        "Let's try it out!"
      ],
      "metadata": {
        "id": "-w5shw-jwnEZ"
      }
    },
    {
      "cell_type": "code",
      "source": [
        "with open('./data/loans2.txt') as file2:\n",
        "    print(file2.read())"
      ],
      "metadata": {
        "colab": {
          "base_uri": "https://localhost:8080/"
        },
        "id": "_tbMqac2wlpS",
        "outputId": "96964ecf-2ec5-406e-df29-df835615148a"
      },
      "execution_count": 52,
      "outputs": [
        {
          "output_type": "stream",
          "name": "stdout",
          "text": [
            "amount,duration,rate,down_payment\n",
            "100000,36,0.08,20000\n",
            "200000,12,0.1,\n",
            "628400,120,0.12,100000\n",
            "4637400,240,0.06,\n",
            "42900,90,0.07,8900\n",
            "916000,16,0.13,\n",
            "45230,48,0.08,4300\n",
            "991360,99,0.08,\n",
            "423000,27,0.09,47200\n"
          ]
        }
      ]
    },
    {
      "cell_type": "code",
      "source": [
        "read_csv('./data/loans2.txt')"
      ],
      "metadata": {
        "colab": {
          "base_uri": "https://localhost:8080/"
        },
        "id": "hbfvYKtowwgg",
        "outputId": "91568e76-26a1-46f4-e7bc-c2c7f274d226"
      },
      "execution_count": 51,
      "outputs": [
        {
          "output_type": "execute_result",
          "data": {
            "text/plain": [
              "[{'amount': 100000.0},\n",
              " {'amount': 200000.0},\n",
              " {'amount': 628400.0},\n",
              " {'amount': 4637400.0},\n",
              " {'amount': 42900.0},\n",
              " {'amount': 916000.0},\n",
              " {'amount': 45230.0},\n",
              " {'amount': 991360.0},\n",
              " {'amount': 423000.0}]"
            ]
          },
          "metadata": {},
          "execution_count": 51
        }
      ]
    },
    {
      "cell_type": "markdown",
      "source": [
        "The file is read and converted to a list of dictionaries, as expected. The `read_csv` file is generic enough that it can parse any file in the CSV format, with any number of rows or columns. Here's the full code for `reda_csv` along with the helper functions:"
      ],
      "metadata": {
        "id": "PlHfDZU3xJzG"
      }
    },
    {
      "cell_type": "code",
      "source": [
        "def parse_headers(header_line):\n",
        "  return header_line.strip().split(',')\n",
        "\n",
        "def parse_values(data_line):\n",
        "  values = []\n",
        "  for item in data_line.strip().split(','):\n",
        "    if item == '':\n",
        "      values.append(0.0)\n",
        "    else:\n",
        "      try:\n",
        "        values.append(float(item))\n",
        "      except ValueError:\n",
        "        values.append(item)\n",
        "  return values\n",
        "\n",
        "def crate_item_dict(values, headers):\n",
        "  result = {}\n",
        "  for value, header in zip(values, headers):\n",
        "    result[header] = value\n",
        "  return result\n",
        "\n",
        "\n",
        "def read_csv(path):\n",
        "  result = []\n",
        "  # Open the file in read mode\n",
        "  with open(path, 'r') as f:\n",
        "    # Get a list of lines\n",
        "    lines = f.readlines()\n",
        "    # Parse the header\n",
        "    headers = parse_headers(lines[0])\n",
        "    # Loop over the remaining lines\n",
        "    for data_line in lines[1:]:\n",
        "      # Parse the values\n",
        "      values = parse_values(data_line)\n",
        "      #Create a dictionary using values & headers\n",
        "      item_dict = create_item_dict(values, headers)\n",
        "      # Add the dictionary to the result\n",
        "      result.append(item_dict)\n",
        "  return result"
      ],
      "metadata": {
        "id": "YR8ND2Y1xEtm"
      },
      "execution_count": 53,
      "outputs": []
    },
    {
      "cell_type": "markdown",
      "source": [
        "Try to create small, generic, and reusable functions whenever possible. They will likely be useful beyond just the problem at hand and save you significant effort in the future."
      ],
      "metadata": {
        "id": "r-3CI6AFy8c8"
      }
    },
    {
      "cell_type": "code",
      "source": [
        "import math\n",
        "\n",
        "def loan_emi(amount, duration, rate, down_payment=0):\n",
        "  # Calculates the equal monthly installment (EMI) for a loan.\n",
        "  \"\"\" Arguments:\n",
        "    amount - Total amount to be spent (loan + down payment)\n",
        "    duration - Duration of the loan(in months)\n",
        "    rate - Rate of interest (monthly)\n",
        "    down_payment (optional) - Optional intial payment (deducted from amount)\n",
        "    \"\"\"\n",
        "\n",
        "  loan_amount = amount - down_payment\n",
        "  try:\n",
        "      emi = loan_amount * rate * ((1+rate)**duration) / (((1+rate)**duration)-1)\n",
        "  except ZeroDivisionError:\n",
        "      emi = loan_amount / duration\n",
        "  \n",
        "  emi = math.ceil(emi)\n",
        "  return emi\n",
        "\n",
        "     "
      ],
      "metadata": {
        "id": "-BknAeTby5L7"
      },
      "execution_count": 54,
      "outputs": []
    },
    {
      "cell_type": "markdown",
      "source": [
        "We can use this function to calculate EMIs for all loans in a file."
      ],
      "metadata": {
        "id": "t2yq5JAo2kZF"
      }
    },
    {
      "cell_type": "code",
      "source": [
        "loans2 = read_csv('./data/loans2.txt')"
      ],
      "metadata": {
        "id": "s1gHAIjX0W66"
      },
      "execution_count": 55,
      "outputs": []
    },
    {
      "cell_type": "code",
      "source": [
        "loans2"
      ],
      "metadata": {
        "colab": {
          "base_uri": "https://localhost:8080/"
        },
        "id": "Gwz4qf2w2u4B",
        "outputId": "80088a15-4c25-4516-95ca-4ff9eff425b4"
      },
      "execution_count": 57,
      "outputs": [
        {
          "output_type": "execute_result",
          "data": {
            "text/plain": [
              "[{'amount': 100000.0, 'duration': 36.0, 'rate': 0.08, 'down_payment': 20000.0},\n",
              " {'amount': 200000.0, 'duration': 12.0, 'rate': 0.1, 'down_payment': 0.0},\n",
              " {'amount': 628400.0,\n",
              "  'duration': 120.0,\n",
              "  'rate': 0.12,\n",
              "  'down_payment': 100000.0},\n",
              " {'amount': 4637400.0, 'duration': 240.0, 'rate': 0.06, 'down_payment': 0.0},\n",
              " {'amount': 42900.0, 'duration': 90.0, 'rate': 0.07, 'down_payment': 8900.0},\n",
              " {'amount': 916000.0, 'duration': 16.0, 'rate': 0.13, 'down_payment': 0.0},\n",
              " {'amount': 45230.0, 'duration': 48.0, 'rate': 0.08, 'down_payment': 4300.0},\n",
              " {'amount': 991360.0, 'duration': 99.0, 'rate': 0.08, 'down_payment': 0.0},\n",
              " {'amount': 423000.0, 'duration': 27.0, 'rate': 0.09, 'down_payment': 47200.0}]"
            ]
          },
          "metadata": {},
          "execution_count": 57
        }
      ]
    },
    {
      "cell_type": "code",
      "source": [
        "for loan in loans2:\n",
        "  loan['emi'] = loan_emi(loan['amount'],\n",
        "                         loan['duration'],\n",
        "                         loan['rate']/12, # the CSV contains yearly rates\n",
        "                         loan['down_payment'])"
      ],
      "metadata": {
        "id": "bC0EQ42D2vxj"
      },
      "execution_count": 58,
      "outputs": []
    },
    {
      "cell_type": "code",
      "source": [
        "loans2"
      ],
      "metadata": {
        "colab": {
          "base_uri": "https://localhost:8080/"
        },
        "id": "jl7hJz_A3EWZ",
        "outputId": "36bd7186-282e-44ee-a360-d60206f2b2fd"
      },
      "execution_count": 59,
      "outputs": [
        {
          "output_type": "execute_result",
          "data": {
            "text/plain": [
              "[{'amount': 100000.0,\n",
              "  'duration': 36.0,\n",
              "  'rate': 0.08,\n",
              "  'down_payment': 20000.0,\n",
              "  'emi': 2507},\n",
              " {'amount': 200000.0,\n",
              "  'duration': 12.0,\n",
              "  'rate': 0.1,\n",
              "  'down_payment': 0.0,\n",
              "  'emi': 17584},\n",
              " {'amount': 628400.0,\n",
              "  'duration': 120.0,\n",
              "  'rate': 0.12,\n",
              "  'down_payment': 100000.0,\n",
              "  'emi': 7582},\n",
              " {'amount': 4637400.0,\n",
              "  'duration': 240.0,\n",
              "  'rate': 0.06,\n",
              "  'down_payment': 0.0,\n",
              "  'emi': 33224},\n",
              " {'amount': 42900.0,\n",
              "  'duration': 90.0,\n",
              "  'rate': 0.07,\n",
              "  'down_payment': 8900.0,\n",
              "  'emi': 487},\n",
              " {'amount': 916000.0,\n",
              "  'duration': 16.0,\n",
              "  'rate': 0.13,\n",
              "  'down_payment': 0.0,\n",
              "  'emi': 62664},\n",
              " {'amount': 45230.0,\n",
              "  'duration': 48.0,\n",
              "  'rate': 0.08,\n",
              "  'down_payment': 4300.0,\n",
              "  'emi': 1000},\n",
              " {'amount': 991360.0,\n",
              "  'duration': 99.0,\n",
              "  'rate': 0.08,\n",
              "  'down_payment': 0.0,\n",
              "  'emi': 13712},\n",
              " {'amount': 423000.0,\n",
              "  'duration': 27.0,\n",
              "  'rate': 0.09,\n",
              "  'down_payment': 47200.0,\n",
              "  'emi': 15428}]"
            ]
          },
          "metadata": {},
          "execution_count": 59
        }
      ]
    },
    {
      "cell_type": "markdown",
      "source": [
        "You can see that each loan now has a new key `emi`, which provides the EMI for the loan. We can extract this logic into a function so that we can use it for other files too."
      ],
      "metadata": {
        "id": "5odBmqjI3Nph"
      }
    },
    {
      "cell_type": "code",
      "source": [
        "def compute_emis(loans):\n",
        "  for loan in loans:\n",
        "    loan['emi'] = loan_emi(\n",
        "        loan['amount'],\n",
        "        loan['duration'],\n",
        "        loan['rate']/12, # the CSV contains yearly rates\n",
        "        loan['down_payment']\n",
        "    )"
      ],
      "metadata": {
        "id": "4PgDC1nV3FXR"
      },
      "execution_count": 60,
      "outputs": []
    },
    {
      "cell_type": "markdown",
      "source": [
        "#Writing to files\n",
        "Now that we have performed some processing on the data, it would be good to write the results back to a CSV file. We can create/open a file in `w` mode using `open` and write to it using the `.write` method. The stirng `format` method will come in handy here."
      ],
      "metadata": {
        "id": "2uESl4ew30sG"
      }
    },
    {
      "cell_type": "code",
      "source": [
        "loans2 = read_csv('./data/loans2.txt')"
      ],
      "metadata": {
        "id": "4bExnIkI3sB7"
      },
      "execution_count": 61,
      "outputs": []
    },
    {
      "cell_type": "code",
      "source": [
        "compute_emis(loans2)"
      ],
      "metadata": {
        "id": "CRCTBX-t6ej6"
      },
      "execution_count": 62,
      "outputs": []
    },
    {
      "cell_type": "code",
      "source": [
        "loans2"
      ],
      "metadata": {
        "colab": {
          "base_uri": "https://localhost:8080/"
        },
        "id": "Ya-GToDn6jHU",
        "outputId": "f46c2636-fda9-47c4-fd7b-a8294df427c0"
      },
      "execution_count": 63,
      "outputs": [
        {
          "output_type": "execute_result",
          "data": {
            "text/plain": [
              "[{'amount': 100000.0,\n",
              "  'duration': 36.0,\n",
              "  'rate': 0.08,\n",
              "  'down_payment': 20000.0,\n",
              "  'emi': 2507},\n",
              " {'amount': 200000.0,\n",
              "  'duration': 12.0,\n",
              "  'rate': 0.1,\n",
              "  'down_payment': 0.0,\n",
              "  'emi': 17584},\n",
              " {'amount': 628400.0,\n",
              "  'duration': 120.0,\n",
              "  'rate': 0.12,\n",
              "  'down_payment': 100000.0,\n",
              "  'emi': 7582},\n",
              " {'amount': 4637400.0,\n",
              "  'duration': 240.0,\n",
              "  'rate': 0.06,\n",
              "  'down_payment': 0.0,\n",
              "  'emi': 33224},\n",
              " {'amount': 42900.0,\n",
              "  'duration': 90.0,\n",
              "  'rate': 0.07,\n",
              "  'down_payment': 8900.0,\n",
              "  'emi': 487},\n",
              " {'amount': 916000.0,\n",
              "  'duration': 16.0,\n",
              "  'rate': 0.13,\n",
              "  'down_payment': 0.0,\n",
              "  'emi': 62664},\n",
              " {'amount': 45230.0,\n",
              "  'duration': 48.0,\n",
              "  'rate': 0.08,\n",
              "  'down_payment': 4300.0,\n",
              "  'emi': 1000},\n",
              " {'amount': 991360.0,\n",
              "  'duration': 99.0,\n",
              "  'rate': 0.08,\n",
              "  'down_payment': 0.0,\n",
              "  'emi': 13712},\n",
              " {'amount': 423000.0,\n",
              "  'duration': 27.0,\n",
              "  'rate': 0.09,\n",
              "  'down_payment': 47200.0,\n",
              "  'emi': 15428}]"
            ]
          },
          "metadata": {},
          "execution_count": 63
        }
      ]
    },
    {
      "cell_type": "code",
      "source": [
        "with open('./data/emis2.txt', 'w') as f:\n",
        "  for loan in loans2:\n",
        "    f.write('{}, {}, {}, {}, {}\\n'.format(\n",
        "        loan['amount'],\n",
        "        loan['duration'],\n",
        "        loan['rate'],\n",
        "        loan['down_payment'],\n",
        "        loan['emi']\n",
        "    ))"
      ],
      "metadata": {
        "id": "zKCLS58T6kZs"
      },
      "execution_count": 64,
      "outputs": []
    },
    {
      "cell_type": "markdown",
      "source": [
        "Let's verify that the file was created and written to as expected."
      ],
      "metadata": {
        "id": "6R9Xyjei7D_Z"
      }
    },
    {
      "cell_type": "code",
      "source": [
        "os.listdir('data')"
      ],
      "metadata": {
        "colab": {
          "base_uri": "https://localhost:8080/"
        },
        "id": "3tQNvl8s7C_I",
        "outputId": "215a0f70-f052-4162-899f-c9978019f5b4"
      },
      "execution_count": 65,
      "outputs": [
        {
          "output_type": "execute_result",
          "data": {
            "text/plain": [
              "['loans1.txt', 'loans3.txt', 'emis2.txt', 'loans2.txt']"
            ]
          },
          "metadata": {},
          "execution_count": 65
        }
      ]
    },
    {
      "cell_type": "code",
      "source": [
        "with open('./data/emis2.txt', 'r') as f:\n",
        "  print(f.read())"
      ],
      "metadata": {
        "colab": {
          "base_uri": "https://localhost:8080/"
        },
        "id": "tulK9Plz7Lxg",
        "outputId": "cb9a46cb-e77b-412e-b903-cf8df3f88cf4"
      },
      "execution_count": 66,
      "outputs": [
        {
          "output_type": "stream",
          "name": "stdout",
          "text": [
            "100000.0, 36.0, 0.08, 20000.0, 2507\n",
            "200000.0, 12.0, 0.1, 0.0, 17584\n",
            "628400.0, 120.0, 0.12, 100000.0, 7582\n",
            "4637400.0, 240.0, 0.06, 0.0, 33224\n",
            "42900.0, 90.0, 0.07, 8900.0, 487\n",
            "916000.0, 16.0, 0.13, 0.0, 62664\n",
            "45230.0, 48.0, 0.08, 4300.0, 1000\n",
            "991360.0, 99.0, 0.08, 0.0, 13712\n",
            "423000.0, 27.0, 0.09, 47200.0, 15428\n",
            "\n"
          ]
        }
      ]
    },
    {
      "cell_type": "markdown",
      "source": [
        "Great, looks like the loan details (along with the computed EMIs) were written into the file.\n",
        "Let's define a generic function `write_csv` which takes a list of dictionaries and writes it to a file in CSV format. We will also include thecolumn headers in the first line."
      ],
      "metadata": {
        "id": "Dn9g3Wv07Yjg"
      }
    },
    {
      "cell_type": "code",
      "source": [
        "def write_csv(items, path):\n",
        "  # Open the file in write mode\n",
        "  with open(path, 'w') as f:\n",
        "    # Return if there's nothing to write\n",
        "    if len(items) == 0:\n",
        "      return\n",
        "    #  Write the headers in the first line\n",
        "    headers = list(items[0].keys())\n",
        "    f.write(','.join(headers) + '\\n')\n",
        "\n",
        "    # Write one item per line\n",
        "    for item in items:\n",
        "      values = []\n",
        "      for header in headers:\n",
        "        values.append(str(item.get(header, \"\")))\n",
        "      f.write(','.join(values) + '\\n')"
      ],
      "metadata": {
        "id": "b_wd54If7Wjv"
      },
      "execution_count": 67,
      "outputs": []
    },
    {
      "cell_type": "code",
      "source": [
        "loans3 = read_csv('./data/loans3.txt')"
      ],
      "metadata": {
        "id": "c1lXtXnL8Rh6"
      },
      "execution_count": 68,
      "outputs": []
    },
    {
      "cell_type": "code",
      "source": [
        "compute_emis(loans3)"
      ],
      "metadata": {
        "id": "c79jnEES8X9p"
      },
      "execution_count": 69,
      "outputs": []
    },
    {
      "cell_type": "code",
      "source": [
        "write_csv(loans3, './data/emis3.txt')"
      ],
      "metadata": {
        "id": "9xyb-zY08aox"
      },
      "execution_count": 70,
      "outputs": []
    },
    {
      "cell_type": "code",
      "source": [
        "with open('./data/emis3.txt', 'r') as f:\n",
        "  print(f.read())"
      ],
      "metadata": {
        "colab": {
          "base_uri": "https://localhost:8080/"
        },
        "id": "BLbaqBjT8eji",
        "outputId": "68a257e8-b0f2-48fd-d918-4056562e2642"
      },
      "execution_count": 71,
      "outputs": [
        {
          "output_type": "stream",
          "name": "stdout",
          "text": [
            "amount,duration,rate,down_payment,emi\n",
            "100000.0,36.0,0.08,20000.0,2507\n",
            "200000.0,12.0,0.1,0.0,17584\n",
            "628400.0,120.0,0.12,100000.0,7582\n",
            "4637400.0,240.0,0.06,0.0,33224\n",
            "42900.0,90.0,0.07,8900.0,487\n",
            "916000.0,16.0,0.13,0.0,62664\n",
            "45230.0,48.0,0.08,4300.0,1000\n",
            "991360.0,99.0,0.08,0.0,13712\n",
            "423000.0,27.0,0.09,47200.0,15428\n",
            "\n"
          ]
        }
      ]
    },
    {
      "cell_type": "markdown",
      "source": [
        "With just four lines of code, we can now read each downloaded file, calculate the EMIs, and write the results back to new files."
      ],
      "metadata": {
        "id": "r_yYbe3K8pho"
      }
    },
    {
      "cell_type": "code",
      "source": [
        "for i in range(1,4):\n",
        "  loans = read_csv('./data/loans{}.txt'.format(i))\n",
        "  compute_emis(loans)\n",
        "  write_csv(loans, './data/emis{}.txt'.format(i))"
      ],
      "metadata": {
        "id": "vFU5G1kO8kUQ"
      },
      "execution_count": 73,
      "outputs": []
    },
    {
      "cell_type": "code",
      "source": [
        "os.listdir('./data')"
      ],
      "metadata": {
        "colab": {
          "base_uri": "https://localhost:8080/"
        },
        "id": "crg3PFgQ89c1",
        "outputId": "a3913015-7d18-4b51-b351-65e5e63ffc91"
      },
      "execution_count": 74,
      "outputs": [
        {
          "output_type": "execute_result",
          "data": {
            "text/plain": [
              "['loans1.txt',\n",
              " 'emis1.txt',\n",
              " 'loans3.txt',\n",
              " 'emis3.txt',\n",
              " 'emis2.txt',\n",
              " 'loans2.txt']"
            ]
          },
          "metadata": {},
          "execution_count": 74
        }
      ]
    },
    {
      "cell_type": "markdown",
      "source": [
        "Isn't that wonderful? Once all the functions are defined, we can calculate EMIs for thousands or even millions of loans across many files in seconds with just a few lines of code. Now we're starting to see the real power of using a programming language like Python for processing data!\n",
        "\n",
        "#Using Pandas to Read and Write CSVs\n",
        "There are some limitations to the `read_csv` and `write_csv` functions we've defined above:\n",
        "* The `read_csv` function fails to crate a proper dictionary if any of the values in the CSV files contains commans\n",
        "\n",
        "* The `write_csv` function fails to create a proper CSV if any of the values to be written conatains commas\n",
        "\n",
        "When a value in a CSV file contains a comma(`,`), the value is generally placed within double quotes. Double quotes (`\"`) in values are converted into two double quotes (`\"\"`). Here's an example:"
      ],
      "metadata": {
        "id": "VFy7UCzq97Nw"
      }
    },
    {
      "cell_type": "code",
      "source": [
        "movies_url = \"https://gist.githubusercontent.com/aakashns/afee0a407d44bbc02321993548021af9/raw/6d7473f0ac4c54aca65fc4b06ed831b8a4840190/movies.csv\""
      ],
      "metadata": {
        "id": "e8NL0gCG9D30"
      },
      "execution_count": 75,
      "outputs": []
    },
    {
      "cell_type": "code",
      "source": [
        "urlretrieve(movies_url, 'data/movies.csv')"
      ],
      "metadata": {
        "colab": {
          "base_uri": "https://localhost:8080/"
        },
        "id": "n4cLEnrT_KGY",
        "outputId": "8926b2ef-8fe0-41e8-cdcf-bb7637febbe6"
      },
      "execution_count": 76,
      "outputs": [
        {
          "output_type": "execute_result",
          "data": {
            "text/plain": [
              "('data/movies.csv', <http.client.HTTPMessage at 0x7f403e35db50>)"
            ]
          },
          "metadata": {},
          "execution_count": 76
        }
      ]
    },
    {
      "cell_type": "code",
      "source": [
        "movies = read_csv('data/movies.csv')"
      ],
      "metadata": {
        "id": "JRHvLmi2_PBg"
      },
      "execution_count": 77,
      "outputs": []
    },
    {
      "cell_type": "code",
      "source": [
        "movies"
      ],
      "metadata": {
        "colab": {
          "base_uri": "https://localhost:8080/"
        },
        "id": "1NY6_zj1_TQf",
        "outputId": "7e4cceda-e453-47c6-e8ce-bcc015211114"
      },
      "execution_count": 78,
      "outputs": [
        {
          "output_type": "execute_result",
          "data": {
            "text/plain": [
              "[{'title': 'Fast & Furious', 'description': '\"A movie'},\n",
              " {'title': 'The Dark Knight', 'description': '\"Gotham'},\n",
              " {'title': 'Memento',\n",
              "  'description': 'A guy forgets everything every 15 minutes'}]"
            ]
          },
          "metadata": {},
          "execution_count": 78
        }
      ]
    },
    {
      "cell_type": "markdown",
      "source": [
        "As you can seen above, the movie descriptions weren't parsed properly.\n",
        "To read this CSV properly, we can use the `pandas` library."
      ],
      "metadata": {
        "id": "INay6-mE_XdX"
      }
    },
    {
      "cell_type": "code",
      "source": [
        "import pandas as pd"
      ],
      "metadata": {
        "id": "pJSyBVow_UM_"
      },
      "execution_count": 79,
      "outputs": []
    },
    {
      "cell_type": "markdown",
      "source": [
        "The `pd.read_csv` function can be use used to read the CSV file into a pandas data frame: a spreadsheet-like object for analyzing and processing data. We'll learn more about data frames in a future lesson."
      ],
      "metadata": {
        "id": "IMiPiYlw_lqm"
      }
    },
    {
      "cell_type": "code",
      "source": [
        "movies_dataframe = pd.read_csv('data/movies.csv')"
      ],
      "metadata": {
        "id": "xUvgSbEH_iTO"
      },
      "execution_count": 84,
      "outputs": []
    },
    {
      "cell_type": "code",
      "source": [
        "movies_dataframe\n"
      ],
      "metadata": {
        "colab": {
          "base_uri": "https://localhost:8080/",
          "height": 143
        },
        "id": "vYs5aWdv_4G8",
        "outputId": "edcfc6d5-a80a-4441-bb8e-b60a16b99c7b"
      },
      "execution_count": 85,
      "outputs": [
        {
          "output_type": "execute_result",
          "data": {
            "text/plain": [
              "             title                                description\n",
              "0   Fast & Furious               A movie, a race, a franchise\n",
              "1  The Dark Knight        Gotham, the \"Batman\", and the Joker\n",
              "2          Memento  A guy forgets everything every 15 minutes"
            ],
            "text/html": [
              "\n",
              "  <div id=\"df-0ba730da-9d86-4f4d-b457-e094d54e6c2a\">\n",
              "    <div class=\"colab-df-container\">\n",
              "      <div>\n",
              "<style scoped>\n",
              "    .dataframe tbody tr th:only-of-type {\n",
              "        vertical-align: middle;\n",
              "    }\n",
              "\n",
              "    .dataframe tbody tr th {\n",
              "        vertical-align: top;\n",
              "    }\n",
              "\n",
              "    .dataframe thead th {\n",
              "        text-align: right;\n",
              "    }\n",
              "</style>\n",
              "<table border=\"1\" class=\"dataframe\">\n",
              "  <thead>\n",
              "    <tr style=\"text-align: right;\">\n",
              "      <th></th>\n",
              "      <th>title</th>\n",
              "      <th>description</th>\n",
              "    </tr>\n",
              "  </thead>\n",
              "  <tbody>\n",
              "    <tr>\n",
              "      <th>0</th>\n",
              "      <td>Fast &amp; Furious</td>\n",
              "      <td>A movie, a race, a franchise</td>\n",
              "    </tr>\n",
              "    <tr>\n",
              "      <th>1</th>\n",
              "      <td>The Dark Knight</td>\n",
              "      <td>Gotham, the \"Batman\", and the Joker</td>\n",
              "    </tr>\n",
              "    <tr>\n",
              "      <th>2</th>\n",
              "      <td>Memento</td>\n",
              "      <td>A guy forgets everything every 15 minutes</td>\n",
              "    </tr>\n",
              "  </tbody>\n",
              "</table>\n",
              "</div>\n",
              "      <button class=\"colab-df-convert\" onclick=\"convertToInteractive('df-0ba730da-9d86-4f4d-b457-e094d54e6c2a')\"\n",
              "              title=\"Convert this dataframe to an interactive table.\"\n",
              "              style=\"display:none;\">\n",
              "        \n",
              "  <svg xmlns=\"http://www.w3.org/2000/svg\" height=\"24px\"viewBox=\"0 0 24 24\"\n",
              "       width=\"24px\">\n",
              "    <path d=\"M0 0h24v24H0V0z\" fill=\"none\"/>\n",
              "    <path d=\"M18.56 5.44l.94 2.06.94-2.06 2.06-.94-2.06-.94-.94-2.06-.94 2.06-2.06.94zm-11 1L8.5 8.5l.94-2.06 2.06-.94-2.06-.94L8.5 2.5l-.94 2.06-2.06.94zm10 10l.94 2.06.94-2.06 2.06-.94-2.06-.94-.94-2.06-.94 2.06-2.06.94z\"/><path d=\"M17.41 7.96l-1.37-1.37c-.4-.4-.92-.59-1.43-.59-.52 0-1.04.2-1.43.59L10.3 9.45l-7.72 7.72c-.78.78-.78 2.05 0 2.83L4 21.41c.39.39.9.59 1.41.59.51 0 1.02-.2 1.41-.59l7.78-7.78 2.81-2.81c.8-.78.8-2.07 0-2.86zM5.41 20L4 18.59l7.72-7.72 1.47 1.35L5.41 20z\"/>\n",
              "  </svg>\n",
              "      </button>\n",
              "      \n",
              "  <style>\n",
              "    .colab-df-container {\n",
              "      display:flex;\n",
              "      flex-wrap:wrap;\n",
              "      gap: 12px;\n",
              "    }\n",
              "\n",
              "    .colab-df-convert {\n",
              "      background-color: #E8F0FE;\n",
              "      border: none;\n",
              "      border-radius: 50%;\n",
              "      cursor: pointer;\n",
              "      display: none;\n",
              "      fill: #1967D2;\n",
              "      height: 32px;\n",
              "      padding: 0 0 0 0;\n",
              "      width: 32px;\n",
              "    }\n",
              "\n",
              "    .colab-df-convert:hover {\n",
              "      background-color: #E2EBFA;\n",
              "      box-shadow: 0px 1px 2px rgba(60, 64, 67, 0.3), 0px 1px 3px 1px rgba(60, 64, 67, 0.15);\n",
              "      fill: #174EA6;\n",
              "    }\n",
              "\n",
              "    [theme=dark] .colab-df-convert {\n",
              "      background-color: #3B4455;\n",
              "      fill: #D2E3FC;\n",
              "    }\n",
              "\n",
              "    [theme=dark] .colab-df-convert:hover {\n",
              "      background-color: #434B5C;\n",
              "      box-shadow: 0px 1px 3px 1px rgba(0, 0, 0, 0.15);\n",
              "      filter: drop-shadow(0px 1px 2px rgba(0, 0, 0, 0.3));\n",
              "      fill: #FFFFFF;\n",
              "    }\n",
              "  </style>\n",
              "\n",
              "      <script>\n",
              "        const buttonEl =\n",
              "          document.querySelector('#df-0ba730da-9d86-4f4d-b457-e094d54e6c2a button.colab-df-convert');\n",
              "        buttonEl.style.display =\n",
              "          google.colab.kernel.accessAllowed ? 'block' : 'none';\n",
              "\n",
              "        async function convertToInteractive(key) {\n",
              "          const element = document.querySelector('#df-0ba730da-9d86-4f4d-b457-e094d54e6c2a');\n",
              "          const dataTable =\n",
              "            await google.colab.kernel.invokeFunction('convertToInteractive',\n",
              "                                                     [key], {});\n",
              "          if (!dataTable) return;\n",
              "\n",
              "          const docLinkHtml = 'Like what you see? Visit the ' +\n",
              "            '<a target=\"_blank\" href=https://colab.research.google.com/notebooks/data_table.ipynb>data table notebook</a>'\n",
              "            + ' to learn more about interactive tables.';\n",
              "          element.innerHTML = '';\n",
              "          dataTable['output_type'] = 'display_data';\n",
              "          await google.colab.output.renderOutput(dataTable, element);\n",
              "          const docLink = document.createElement('div');\n",
              "          docLink.innerHTML = docLinkHtml;\n",
              "          element.appendChild(docLink);\n",
              "        }\n",
              "      </script>\n",
              "    </div>\n",
              "  </div>\n",
              "  "
            ]
          },
          "metadata": {},
          "execution_count": 85
        }
      ]
    },
    {
      "cell_type": "markdown",
      "source": [
        "If you don't pass the arguments `records`, you get a dictionary of lists instead.\n"
      ],
      "metadata": {
        "id": "Tx8lqqjaALNq"
      }
    },
    {
      "cell_type": "code",
      "source": [
        "movies_dict = movies_dataframe.to_dict()"
      ],
      "metadata": {
        "id": "iUItUqz__69b"
      },
      "execution_count": 86,
      "outputs": []
    },
    {
      "cell_type": "code",
      "source": [
        "movies_dict"
      ],
      "metadata": {
        "colab": {
          "base_uri": "https://localhost:8080/"
        },
        "id": "hgPfy4-xATRZ",
        "outputId": "3460b489-3b29-4aa5-b6dd-d33c91066942"
      },
      "execution_count": 90,
      "outputs": [
        {
          "output_type": "execute_result",
          "data": {
            "text/plain": [
              "{'title': {0: 'Fast & Furious', 1: 'The Dark Knight', 2: 'Memento'},\n",
              " 'description': {0: 'A movie, a race, a franchise',\n",
              "  1: 'Gotham, the \"Batman\", and the Joker',\n",
              "  2: 'A guy forgets everything every 15 minutes'}}"
            ]
          },
          "metadata": {},
          "execution_count": 90
        }
      ]
    },
    {
      "cell_type": "markdown",
      "source": [
        "Let's try using the `write_csv` function to write the data in movies back to a CSV file."
      ],
      "metadata": {
        "id": "eIpXJ9RSAoHH"
      }
    },
    {
      "cell_type": "code",
      "source": [
        "write_csv(movies, 'movies2.csv')"
      ],
      "metadata": {
        "id": "2ZSfjl_MAZMQ"
      },
      "execution_count": 91,
      "outputs": []
    },
    {
      "cell_type": "code",
      "source": [
        "!head movies2.csv"
      ],
      "metadata": {
        "colab": {
          "base_uri": "https://localhost:8080/"
        },
        "id": "Tx8hV9iWA0P2",
        "outputId": "16579592-25d2-4ab9-d568-d6062e9d28bf"
      },
      "execution_count": 92,
      "outputs": [
        {
          "output_type": "stream",
          "name": "stdout",
          "text": [
            "title,description\n",
            "Fast & Furious,\"A movie\n",
            "The Dark Knight,\"Gotham\n",
            "Memento,A guy forgets everything every 15 minutes\n"
          ]
        }
      ]
    },
    {
      "cell_type": "markdown",
      "source": [
        "As you can see above, the CSV file is not formatted properly. This can be verified by attempting to read the file using `pd.read_csv`"
      ],
      "metadata": {
        "id": "3OVqp9-RA4gV"
      }
    },
    {
      "cell_type": "code",
      "source": [
        "pd.read_csv('movies2.csv')"
      ],
      "metadata": {
        "colab": {
          "base_uri": "https://localhost:8080/",
          "height": 112
        },
        "id": "Sh4uqm6sA2P-",
        "outputId": "e94e3165-5a88-4e5b-ad99-99185ee02797"
      },
      "execution_count": 93,
      "outputs": [
        {
          "output_type": "execute_result",
          "data": {
            "text/plain": [
              "            title                                description\n",
              "0  Fast & Furious            A movie\\nThe Dark Knight,Gotham\n",
              "1         Memento  A guy forgets everything every 15 minutes"
            ],
            "text/html": [
              "\n",
              "  <div id=\"df-7df417e1-e356-4e33-8db1-19ae5ea86d7c\">\n",
              "    <div class=\"colab-df-container\">\n",
              "      <div>\n",
              "<style scoped>\n",
              "    .dataframe tbody tr th:only-of-type {\n",
              "        vertical-align: middle;\n",
              "    }\n",
              "\n",
              "    .dataframe tbody tr th {\n",
              "        vertical-align: top;\n",
              "    }\n",
              "\n",
              "    .dataframe thead th {\n",
              "        text-align: right;\n",
              "    }\n",
              "</style>\n",
              "<table border=\"1\" class=\"dataframe\">\n",
              "  <thead>\n",
              "    <tr style=\"text-align: right;\">\n",
              "      <th></th>\n",
              "      <th>title</th>\n",
              "      <th>description</th>\n",
              "    </tr>\n",
              "  </thead>\n",
              "  <tbody>\n",
              "    <tr>\n",
              "      <th>0</th>\n",
              "      <td>Fast &amp; Furious</td>\n",
              "      <td>A movie\\nThe Dark Knight,Gotham</td>\n",
              "    </tr>\n",
              "    <tr>\n",
              "      <th>1</th>\n",
              "      <td>Memento</td>\n",
              "      <td>A guy forgets everything every 15 minutes</td>\n",
              "    </tr>\n",
              "  </tbody>\n",
              "</table>\n",
              "</div>\n",
              "      <button class=\"colab-df-convert\" onclick=\"convertToInteractive('df-7df417e1-e356-4e33-8db1-19ae5ea86d7c')\"\n",
              "              title=\"Convert this dataframe to an interactive table.\"\n",
              "              style=\"display:none;\">\n",
              "        \n",
              "  <svg xmlns=\"http://www.w3.org/2000/svg\" height=\"24px\"viewBox=\"0 0 24 24\"\n",
              "       width=\"24px\">\n",
              "    <path d=\"M0 0h24v24H0V0z\" fill=\"none\"/>\n",
              "    <path d=\"M18.56 5.44l.94 2.06.94-2.06 2.06-.94-2.06-.94-.94-2.06-.94 2.06-2.06.94zm-11 1L8.5 8.5l.94-2.06 2.06-.94-2.06-.94L8.5 2.5l-.94 2.06-2.06.94zm10 10l.94 2.06.94-2.06 2.06-.94-2.06-.94-.94-2.06-.94 2.06-2.06.94z\"/><path d=\"M17.41 7.96l-1.37-1.37c-.4-.4-.92-.59-1.43-.59-.52 0-1.04.2-1.43.59L10.3 9.45l-7.72 7.72c-.78.78-.78 2.05 0 2.83L4 21.41c.39.39.9.59 1.41.59.51 0 1.02-.2 1.41-.59l7.78-7.78 2.81-2.81c.8-.78.8-2.07 0-2.86zM5.41 20L4 18.59l7.72-7.72 1.47 1.35L5.41 20z\"/>\n",
              "  </svg>\n",
              "      </button>\n",
              "      \n",
              "  <style>\n",
              "    .colab-df-container {\n",
              "      display:flex;\n",
              "      flex-wrap:wrap;\n",
              "      gap: 12px;\n",
              "    }\n",
              "\n",
              "    .colab-df-convert {\n",
              "      background-color: #E8F0FE;\n",
              "      border: none;\n",
              "      border-radius: 50%;\n",
              "      cursor: pointer;\n",
              "      display: none;\n",
              "      fill: #1967D2;\n",
              "      height: 32px;\n",
              "      padding: 0 0 0 0;\n",
              "      width: 32px;\n",
              "    }\n",
              "\n",
              "    .colab-df-convert:hover {\n",
              "      background-color: #E2EBFA;\n",
              "      box-shadow: 0px 1px 2px rgba(60, 64, 67, 0.3), 0px 1px 3px 1px rgba(60, 64, 67, 0.15);\n",
              "      fill: #174EA6;\n",
              "    }\n",
              "\n",
              "    [theme=dark] .colab-df-convert {\n",
              "      background-color: #3B4455;\n",
              "      fill: #D2E3FC;\n",
              "    }\n",
              "\n",
              "    [theme=dark] .colab-df-convert:hover {\n",
              "      background-color: #434B5C;\n",
              "      box-shadow: 0px 1px 3px 1px rgba(0, 0, 0, 0.15);\n",
              "      filter: drop-shadow(0px 1px 2px rgba(0, 0, 0, 0.3));\n",
              "      fill: #FFFFFF;\n",
              "    }\n",
              "  </style>\n",
              "\n",
              "      <script>\n",
              "        const buttonEl =\n",
              "          document.querySelector('#df-7df417e1-e356-4e33-8db1-19ae5ea86d7c button.colab-df-convert');\n",
              "        buttonEl.style.display =\n",
              "          google.colab.kernel.accessAllowed ? 'block' : 'none';\n",
              "\n",
              "        async function convertToInteractive(key) {\n",
              "          const element = document.querySelector('#df-7df417e1-e356-4e33-8db1-19ae5ea86d7c');\n",
              "          const dataTable =\n",
              "            await google.colab.kernel.invokeFunction('convertToInteractive',\n",
              "                                                     [key], {});\n",
              "          if (!dataTable) return;\n",
              "\n",
              "          const docLinkHtml = 'Like what you see? Visit the ' +\n",
              "            '<a target=\"_blank\" href=https://colab.research.google.com/notebooks/data_table.ipynb>data table notebook</a>'\n",
              "            + ' to learn more about interactive tables.';\n",
              "          element.innerHTML = '';\n",
              "          dataTable['output_type'] = 'display_data';\n",
              "          await google.colab.output.renderOutput(dataTable, element);\n",
              "          const docLink = document.createElement('div');\n",
              "          docLink.innerHTML = docLinkHtml;\n",
              "          element.appendChild(docLink);\n",
              "        }\n",
              "      </script>\n",
              "    </div>\n",
              "  </div>\n",
              "  "
            ]
          },
          "metadata": {},
          "execution_count": 93
        }
      ]
    },
    {
      "cell_type": "markdown",
      "source": [
        "To convert a list of dictionaries into a dataframe, you can use the `pd.DataFrame` constructior."
      ],
      "metadata": {
        "id": "Z4NAPGvIBFHF"
      }
    },
    {
      "cell_type": "code",
      "source": [
        "df2 = pd.DataFrame(movies)"
      ],
      "metadata": {
        "id": "93goOG-ABCtl"
      },
      "execution_count": 94,
      "outputs": []
    },
    {
      "cell_type": "code",
      "source": [
        "df2"
      ],
      "metadata": {
        "colab": {
          "base_uri": "https://localhost:8080/",
          "height": 143
        },
        "id": "tAyRhgKPBMzz",
        "outputId": "a7da35f4-5578-4c33-c851-ea4e86a6c244"
      },
      "execution_count": 95,
      "outputs": [
        {
          "output_type": "execute_result",
          "data": {
            "text/plain": [
              "             title                                description\n",
              "0   Fast & Furious                                   \"A movie\n",
              "1  The Dark Knight                                    \"Gotham\n",
              "2          Memento  A guy forgets everything every 15 minutes"
            ],
            "text/html": [
              "\n",
              "  <div id=\"df-d56d4d37-7620-4317-abdc-40b2057842a6\">\n",
              "    <div class=\"colab-df-container\">\n",
              "      <div>\n",
              "<style scoped>\n",
              "    .dataframe tbody tr th:only-of-type {\n",
              "        vertical-align: middle;\n",
              "    }\n",
              "\n",
              "    .dataframe tbody tr th {\n",
              "        vertical-align: top;\n",
              "    }\n",
              "\n",
              "    .dataframe thead th {\n",
              "        text-align: right;\n",
              "    }\n",
              "</style>\n",
              "<table border=\"1\" class=\"dataframe\">\n",
              "  <thead>\n",
              "    <tr style=\"text-align: right;\">\n",
              "      <th></th>\n",
              "      <th>title</th>\n",
              "      <th>description</th>\n",
              "    </tr>\n",
              "  </thead>\n",
              "  <tbody>\n",
              "    <tr>\n",
              "      <th>0</th>\n",
              "      <td>Fast &amp; Furious</td>\n",
              "      <td>\"A movie</td>\n",
              "    </tr>\n",
              "    <tr>\n",
              "      <th>1</th>\n",
              "      <td>The Dark Knight</td>\n",
              "      <td>\"Gotham</td>\n",
              "    </tr>\n",
              "    <tr>\n",
              "      <th>2</th>\n",
              "      <td>Memento</td>\n",
              "      <td>A guy forgets everything every 15 minutes</td>\n",
              "    </tr>\n",
              "  </tbody>\n",
              "</table>\n",
              "</div>\n",
              "      <button class=\"colab-df-convert\" onclick=\"convertToInteractive('df-d56d4d37-7620-4317-abdc-40b2057842a6')\"\n",
              "              title=\"Convert this dataframe to an interactive table.\"\n",
              "              style=\"display:none;\">\n",
              "        \n",
              "  <svg xmlns=\"http://www.w3.org/2000/svg\" height=\"24px\"viewBox=\"0 0 24 24\"\n",
              "       width=\"24px\">\n",
              "    <path d=\"M0 0h24v24H0V0z\" fill=\"none\"/>\n",
              "    <path d=\"M18.56 5.44l.94 2.06.94-2.06 2.06-.94-2.06-.94-.94-2.06-.94 2.06-2.06.94zm-11 1L8.5 8.5l.94-2.06 2.06-.94-2.06-.94L8.5 2.5l-.94 2.06-2.06.94zm10 10l.94 2.06.94-2.06 2.06-.94-2.06-.94-.94-2.06-.94 2.06-2.06.94z\"/><path d=\"M17.41 7.96l-1.37-1.37c-.4-.4-.92-.59-1.43-.59-.52 0-1.04.2-1.43.59L10.3 9.45l-7.72 7.72c-.78.78-.78 2.05 0 2.83L4 21.41c.39.39.9.59 1.41.59.51 0 1.02-.2 1.41-.59l7.78-7.78 2.81-2.81c.8-.78.8-2.07 0-2.86zM5.41 20L4 18.59l7.72-7.72 1.47 1.35L5.41 20z\"/>\n",
              "  </svg>\n",
              "      </button>\n",
              "      \n",
              "  <style>\n",
              "    .colab-df-container {\n",
              "      display:flex;\n",
              "      flex-wrap:wrap;\n",
              "      gap: 12px;\n",
              "    }\n",
              "\n",
              "    .colab-df-convert {\n",
              "      background-color: #E8F0FE;\n",
              "      border: none;\n",
              "      border-radius: 50%;\n",
              "      cursor: pointer;\n",
              "      display: none;\n",
              "      fill: #1967D2;\n",
              "      height: 32px;\n",
              "      padding: 0 0 0 0;\n",
              "      width: 32px;\n",
              "    }\n",
              "\n",
              "    .colab-df-convert:hover {\n",
              "      background-color: #E2EBFA;\n",
              "      box-shadow: 0px 1px 2px rgba(60, 64, 67, 0.3), 0px 1px 3px 1px rgba(60, 64, 67, 0.15);\n",
              "      fill: #174EA6;\n",
              "    }\n",
              "\n",
              "    [theme=dark] .colab-df-convert {\n",
              "      background-color: #3B4455;\n",
              "      fill: #D2E3FC;\n",
              "    }\n",
              "\n",
              "    [theme=dark] .colab-df-convert:hover {\n",
              "      background-color: #434B5C;\n",
              "      box-shadow: 0px 1px 3px 1px rgba(0, 0, 0, 0.15);\n",
              "      filter: drop-shadow(0px 1px 2px rgba(0, 0, 0, 0.3));\n",
              "      fill: #FFFFFF;\n",
              "    }\n",
              "  </style>\n",
              "\n",
              "      <script>\n",
              "        const buttonEl =\n",
              "          document.querySelector('#df-d56d4d37-7620-4317-abdc-40b2057842a6 button.colab-df-convert');\n",
              "        buttonEl.style.display =\n",
              "          google.colab.kernel.accessAllowed ? 'block' : 'none';\n",
              "\n",
              "        async function convertToInteractive(key) {\n",
              "          const element = document.querySelector('#df-d56d4d37-7620-4317-abdc-40b2057842a6');\n",
              "          const dataTable =\n",
              "            await google.colab.kernel.invokeFunction('convertToInteractive',\n",
              "                                                     [key], {});\n",
              "          if (!dataTable) return;\n",
              "\n",
              "          const docLinkHtml = 'Like what you see? Visit the ' +\n",
              "            '<a target=\"_blank\" href=https://colab.research.google.com/notebooks/data_table.ipynb>data table notebook</a>'\n",
              "            + ' to learn more about interactive tables.';\n",
              "          element.innerHTML = '';\n",
              "          dataTable['output_type'] = 'display_data';\n",
              "          await google.colab.output.renderOutput(dataTable, element);\n",
              "          const docLink = document.createElement('div');\n",
              "          docLink.innerHTML = docLinkHtml;\n",
              "          element.appendChild(docLink);\n",
              "        }\n",
              "      </script>\n",
              "    </div>\n",
              "  </div>\n",
              "  "
            ]
          },
          "metadata": {},
          "execution_count": 95
        }
      ]
    },
    {
      "cell_type": "markdown",
      "source": [
        "It can now be written to a CSV file using the `.to_csv` method of a dataframe."
      ],
      "metadata": {
        "id": "8Zpuq0ClBQyz"
      }
    },
    {
      "cell_type": "code",
      "source": [
        "df2.to_csv('movies3.csv', index=None)"
      ],
      "metadata": {
        "id": "OoNGM690BPdL"
      },
      "execution_count": 96,
      "outputs": []
    },
    {
      "cell_type": "markdown",
      "source": [
        "Can you guess what the argument `index=None` does? Try removing it and observing the difference in output."
      ],
      "metadata": {
        "id": "rsenW79IBZdy"
      }
    },
    {
      "cell_type": "code",
      "source": [
        "!head movies3.csv"
      ],
      "metadata": {
        "colab": {
          "base_uri": "https://localhost:8080/"
        },
        "id": "v3ZewoF-BYYq",
        "outputId": "8bff7807-6847-4ea7-b0fc-3da4be7b65e8"
      },
      "execution_count": 97,
      "outputs": [
        {
          "output_type": "stream",
          "name": "stdout",
          "text": [
            "title,description\n",
            "Fast & Furious,\"\"\"A movie\"\n",
            "The Dark Knight,\"\"\"Gotham\"\n",
            "Memento,A guy forgets everything every 15 minutes\n"
          ]
        }
      ]
    },
    {
      "cell_type": "markdown",
      "source": [
        "The CSV file is formatted properly. We can verify this by trying to read it back."
      ],
      "metadata": {
        "id": "whG69to9Bi15"
      }
    },
    {
      "cell_type": "code",
      "source": [
        "pd.read_csv('movies3.csv')"
      ],
      "metadata": {
        "colab": {
          "base_uri": "https://localhost:8080/",
          "height": 143
        },
        "id": "DuRDqQdeBhmS",
        "outputId": "ab652de9-7b19-4984-aea8-5aad86210b02"
      },
      "execution_count": 98,
      "outputs": [
        {
          "output_type": "execute_result",
          "data": {
            "text/plain": [
              "             title                                description\n",
              "0   Fast & Furious                                   \"A movie\n",
              "1  The Dark Knight                                    \"Gotham\n",
              "2          Memento  A guy forgets everything every 15 minutes"
            ],
            "text/html": [
              "\n",
              "  <div id=\"df-c7f65718-bb12-47ac-ab83-359bef107f30\">\n",
              "    <div class=\"colab-df-container\">\n",
              "      <div>\n",
              "<style scoped>\n",
              "    .dataframe tbody tr th:only-of-type {\n",
              "        vertical-align: middle;\n",
              "    }\n",
              "\n",
              "    .dataframe tbody tr th {\n",
              "        vertical-align: top;\n",
              "    }\n",
              "\n",
              "    .dataframe thead th {\n",
              "        text-align: right;\n",
              "    }\n",
              "</style>\n",
              "<table border=\"1\" class=\"dataframe\">\n",
              "  <thead>\n",
              "    <tr style=\"text-align: right;\">\n",
              "      <th></th>\n",
              "      <th>title</th>\n",
              "      <th>description</th>\n",
              "    </tr>\n",
              "  </thead>\n",
              "  <tbody>\n",
              "    <tr>\n",
              "      <th>0</th>\n",
              "      <td>Fast &amp; Furious</td>\n",
              "      <td>\"A movie</td>\n",
              "    </tr>\n",
              "    <tr>\n",
              "      <th>1</th>\n",
              "      <td>The Dark Knight</td>\n",
              "      <td>\"Gotham</td>\n",
              "    </tr>\n",
              "    <tr>\n",
              "      <th>2</th>\n",
              "      <td>Memento</td>\n",
              "      <td>A guy forgets everything every 15 minutes</td>\n",
              "    </tr>\n",
              "  </tbody>\n",
              "</table>\n",
              "</div>\n",
              "      <button class=\"colab-df-convert\" onclick=\"convertToInteractive('df-c7f65718-bb12-47ac-ab83-359bef107f30')\"\n",
              "              title=\"Convert this dataframe to an interactive table.\"\n",
              "              style=\"display:none;\">\n",
              "        \n",
              "  <svg xmlns=\"http://www.w3.org/2000/svg\" height=\"24px\"viewBox=\"0 0 24 24\"\n",
              "       width=\"24px\">\n",
              "    <path d=\"M0 0h24v24H0V0z\" fill=\"none\"/>\n",
              "    <path d=\"M18.56 5.44l.94 2.06.94-2.06 2.06-.94-2.06-.94-.94-2.06-.94 2.06-2.06.94zm-11 1L8.5 8.5l.94-2.06 2.06-.94-2.06-.94L8.5 2.5l-.94 2.06-2.06.94zm10 10l.94 2.06.94-2.06 2.06-.94-2.06-.94-.94-2.06-.94 2.06-2.06.94z\"/><path d=\"M17.41 7.96l-1.37-1.37c-.4-.4-.92-.59-1.43-.59-.52 0-1.04.2-1.43.59L10.3 9.45l-7.72 7.72c-.78.78-.78 2.05 0 2.83L4 21.41c.39.39.9.59 1.41.59.51 0 1.02-.2 1.41-.59l7.78-7.78 2.81-2.81c.8-.78.8-2.07 0-2.86zM5.41 20L4 18.59l7.72-7.72 1.47 1.35L5.41 20z\"/>\n",
              "  </svg>\n",
              "      </button>\n",
              "      \n",
              "  <style>\n",
              "    .colab-df-container {\n",
              "      display:flex;\n",
              "      flex-wrap:wrap;\n",
              "      gap: 12px;\n",
              "    }\n",
              "\n",
              "    .colab-df-convert {\n",
              "      background-color: #E8F0FE;\n",
              "      border: none;\n",
              "      border-radius: 50%;\n",
              "      cursor: pointer;\n",
              "      display: none;\n",
              "      fill: #1967D2;\n",
              "      height: 32px;\n",
              "      padding: 0 0 0 0;\n",
              "      width: 32px;\n",
              "    }\n",
              "\n",
              "    .colab-df-convert:hover {\n",
              "      background-color: #E2EBFA;\n",
              "      box-shadow: 0px 1px 2px rgba(60, 64, 67, 0.3), 0px 1px 3px 1px rgba(60, 64, 67, 0.15);\n",
              "      fill: #174EA6;\n",
              "    }\n",
              "\n",
              "    [theme=dark] .colab-df-convert {\n",
              "      background-color: #3B4455;\n",
              "      fill: #D2E3FC;\n",
              "    }\n",
              "\n",
              "    [theme=dark] .colab-df-convert:hover {\n",
              "      background-color: #434B5C;\n",
              "      box-shadow: 0px 1px 3px 1px rgba(0, 0, 0, 0.15);\n",
              "      filter: drop-shadow(0px 1px 2px rgba(0, 0, 0, 0.3));\n",
              "      fill: #FFFFFF;\n",
              "    }\n",
              "  </style>\n",
              "\n",
              "      <script>\n",
              "        const buttonEl =\n",
              "          document.querySelector('#df-c7f65718-bb12-47ac-ab83-359bef107f30 button.colab-df-convert');\n",
              "        buttonEl.style.display =\n",
              "          google.colab.kernel.accessAllowed ? 'block' : 'none';\n",
              "\n",
              "        async function convertToInteractive(key) {\n",
              "          const element = document.querySelector('#df-c7f65718-bb12-47ac-ab83-359bef107f30');\n",
              "          const dataTable =\n",
              "            await google.colab.kernel.invokeFunction('convertToInteractive',\n",
              "                                                     [key], {});\n",
              "          if (!dataTable) return;\n",
              "\n",
              "          const docLinkHtml = 'Like what you see? Visit the ' +\n",
              "            '<a target=\"_blank\" href=https://colab.research.google.com/notebooks/data_table.ipynb>data table notebook</a>'\n",
              "            + ' to learn more about interactive tables.';\n",
              "          element.innerHTML = '';\n",
              "          dataTable['output_type'] = 'display_data';\n",
              "          await google.colab.output.renderOutput(dataTable, element);\n",
              "          const docLink = document.createElement('div');\n",
              "          docLink.innerHTML = docLinkHtml;\n",
              "          element.appendChild(docLink);\n",
              "        }\n",
              "      </script>\n",
              "    </div>\n",
              "  </div>\n",
              "  "
            ]
          },
          "metadata": {},
          "execution_count": 98
        }
      ]
    },
    {
      "cell_type": "code",
      "source": [],
      "metadata": {
        "id": "w2FBjeqEBp9R"
      },
      "execution_count": null,
      "outputs": []
    }
  ]
}