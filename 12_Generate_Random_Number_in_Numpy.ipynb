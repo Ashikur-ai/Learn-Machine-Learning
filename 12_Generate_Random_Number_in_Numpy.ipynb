{
  "nbformat": 4,
  "nbformat_minor": 0,
  "metadata": {
    "colab": {
      "name": "12.Generate Random Number in Numpy",
      "provenance": [],
      "authorship_tag": "ABX9TyNaQx6QFDuzsGjTU5II4zxc",
      "include_colab_link": true
    },
    "kernelspec": {
      "name": "python3",
      "display_name": "Python 3"
    },
    "language_info": {
      "name": "python"
    }
  },
  "cells": [
    {
      "cell_type": "markdown",
      "metadata": {
        "id": "view-in-github",
        "colab_type": "text"
      },
      "source": [
        "<a href=\"https://colab.research.google.com/github/Ashikur-ai/Learn-Machine-Learning/blob/main/12_Generate_Random_Number_in_Numpy.ipynb\" target=\"_parent\"><img src=\"https://colab.research.google.com/assets/colab-badge.svg\" alt=\"Open In Colab\"/></a>"
      ]
    },
    {
      "cell_type": "markdown",
      "source": [
        "#Random numbers [0 1] uniform random dist"
      ],
      "metadata": {
        "id": "0918OK21Lzwl"
      }
    },
    {
      "cell_type": "code",
      "execution_count": 2,
      "metadata": {
        "colab": {
          "base_uri": "https://localhost:8080/"
        },
        "id": "mpNXP1b8LuzL",
        "outputId": "081df150-f5dd-4466-cbb9-af531013c692"
      },
      "outputs": [
        {
          "output_type": "execute_result",
          "data": {
            "text/plain": [
              "array([0.46922666, 0.06079725, 0.08371423, 0.15112266, 0.33079402,\n",
              "       0.27759928, 0.70389276, 0.98778391, 0.02609449, 0.95775424])"
            ]
          },
          "metadata": {},
          "execution_count": 2
        }
      ],
      "source": [
        "import numpy as np\n",
        "np.random.rand(10)"
      ]
    },
    {
      "cell_type": "code",
      "source": [
        "np.random.randn(3,3)"
      ],
      "metadata": {
        "colab": {
          "base_uri": "https://localhost:8080/"
        },
        "id": "h4AxMep1L5hs",
        "outputId": "f78e12b6-a1fa-4fd6-eb18-1c13f02db7e2"
      },
      "execution_count": 5,
      "outputs": [
        {
          "output_type": "execute_result",
          "data": {
            "text/plain": [
              "array([[-0.81006526,  0.2049901 ,  0.05312438],\n",
              "       [-0.13070883, -1.46705682, -0.0426704 ],\n",
              "       [ 1.17527297,  0.63113083, -0.04753461]])"
            ]
          },
          "metadata": {},
          "execution_count": 5
        }
      ]
    },
    {
      "cell_type": "code",
      "source": [
        "np.random.randint(11,100, 10)"
      ],
      "metadata": {
        "colab": {
          "base_uri": "https://localhost:8080/"
        },
        "id": "BatcWxrjMCYi",
        "outputId": "8b5606b9-f0c7-445f-841d-3d0d6fb62a99"
      },
      "execution_count": 6,
      "outputs": [
        {
          "output_type": "execute_result",
          "data": {
            "text/plain": [
              "array([33, 40, 80, 91, 59, 46, 28, 75, 16, 60])"
            ]
          },
          "metadata": {},
          "execution_count": 6
        }
      ]
    },
    {
      "cell_type": "code",
      "source": [
        ""
      ],
      "metadata": {
        "id": "VNvPMTjxMMZh"
      },
      "execution_count": null,
      "outputs": []
    }
  ]
}